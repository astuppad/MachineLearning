{
 "cells": [
  {
   "cell_type": "markdown",
   "metadata": {},
   "source": [
    "# 1.You flip a fair coin 10 times. What is the probability of getting 8 or more heads? "
   ]
  },
  {
   "cell_type": "code",
   "execution_count": 11,
   "metadata": {},
   "outputs": [
    {
     "data": {
      "text/plain": [
       "0.0546875"
      ]
     },
     "execution_count": 11,
     "metadata": {},
     "output_type": "execute_result"
    }
   ],
   "source": [
    "from scipy.stats import binom\n",
    "k, n, p = 8, 10, 0.5\n",
    "binomial = binom.pmf(k, n, p) + binom.pmf(k + 1, n, p) + binom.pmf(k + 2, n, p)\n",
    "binomial"
   ]
  },
  {
   "cell_type": "markdown",
   "metadata": {},
   "source": [
    "# 2. The probability that you will win a certain game is 0.3. You play the game 20 times. What is the mean of this binomial distribution?\n"
   ]
  },
  {
   "cell_type": "code",
   "execution_count": 13,
   "metadata": {},
   "outputs": [
    {
     "data": {
      "text/plain": [
       "6.0"
      ]
     },
     "execution_count": 13,
     "metadata": {},
     "output_type": "execute_result"
    }
   ],
   "source": [
    "n, p = 20, 0.3\n",
    "m = n * p\n",
    "m"
   ]
  },
  {
   "cell_type": "markdown",
   "metadata": {},
   "source": [
    "# 3. An automatic camera records the number of cars running a red light at an intersection (that is, the cars were going through when the red light was against the car). Analysis of the data shows that on average 15% of light changes record a car running a red light. Assume that the data has a binomial distribution. What is theprobability that in 20 light changes there will be exactly three (3) cars running a red light?"
   ]
  },
  {
   "cell_type": "code",
   "execution_count": 6,
   "metadata": {},
   "outputs": [
    {
     "data": {
      "text/plain": [
       "0.24282889614926725"
      ]
     },
     "execution_count": 6,
     "metadata": {},
     "output_type": "execute_result"
    }
   ],
   "source": [
    "from scipy.stats import binom\n",
    "k, n, p = 3, 20, 0.15\n",
    "binomial = binom.pmf(k, n, p)\n",
    "binomial"
   ]
  },
  {
   "cell_type": "markdown",
   "metadata": {},
   "source": [
    "# 4. There are 15 sets of traffic lights on the journey.The probability that a driver must stop at any one traffic light coming to alliance University is 0.3  \n",
    "\n",
    "a) What is the probability that a student must stop at exactly 2 of the 15 sets oftraffic lights? \n",
    "\n",
    "b) What is the probability that a student will be stopped at 1 or more of the 15sets of traffic lights? "
   ]
  },
  {
   "cell_type": "code",
   "execution_count": 17,
   "metadata": {},
   "outputs": [
    {
     "data": {
      "text/plain": [
       "(0.0915601148346156, 0.995252438490057)"
      ]
     },
     "execution_count": 17,
     "metadata": {},
     "output_type": "execute_result"
    }
   ],
   "source": [
    "from scipy.stats import binom\n",
    "k, n, p = 2, 15, 0.3\n",
    "binomial1 = binom.pmf(k, n, p)\n",
    "k, n, p = 1, 15, 0.3\n",
    "binomial2 = 1 - binom.pmf(k - 1, n, p)\n",
    "binomial1, binomial2"
   ]
  },
  {
   "cell_type": "markdown",
   "metadata": {},
   "source": [
    "# 5. What is the area under the curve of a probability distribution? Explain."
   ]
  },
  {
   "cell_type": "code",
   "execution_count": 18,
   "metadata": {},
   "outputs": [
    {
     "ename": "SyntaxError",
     "evalue": "invalid syntax (<ipython-input-18-33a8cbda010a>, line 1)",
     "output_type": "error",
     "traceback": [
      "\u001b[1;36m  File \u001b[1;32m\"<ipython-input-18-33a8cbda010a>\"\u001b[1;36m, line \u001b[1;32m1\u001b[0m\n\u001b[1;33m    The area is 1 by definition, meaning that the probability that a score chosen at random will occur under the curve is 1.\u001b[0m\n\u001b[1;37m           ^\u001b[0m\n\u001b[1;31mSyntaxError\u001b[0m\u001b[1;31m:\u001b[0m invalid syntax\n"
     ]
    }
   ],
   "source": [
    "The area is 1 by definition, meaning that the probability that a score chosen at random will occur under the curve is 1."
   ]
  },
  {
   "cell_type": "markdown",
   "metadata": {},
   "source": [
    "# 6. My Bank has a large Credit Card portfolio. Based on empirical data, they have found that 60% of the customers pay their bill on time. If a sample of 10 accounts is selected from the current database, construct the Probability Distribution of accounts paying on time.\n",
    "Hint: Make use of Function used in Excel or R"
   ]
  },
  {
   "cell_type": "code",
   "execution_count": 2,
   "metadata": {},
   "outputs": [
    {
     "data": {
      "text/plain": [
       "0.0060466176"
      ]
     },
     "execution_count": 2,
     "metadata": {},
     "output_type": "execute_result"
    }
   ],
   "source": [
    "from scipy.stats import binom\n",
    "binomial = binom.pmf(10, 10, 0.6)\n",
    "binomial"
   ]
  },
  {
   "cell_type": "markdown",
   "metadata": {},
   "source": [
    "# 7. If the likelihood of a tagged order form is 0.1, What is the probability that there are three tagged order forms in the sample of four?\n",
    "Hint: Use Binomial distribution equation"
   ]
  },
  {
   "cell_type": "code",
   "execution_count": 3,
   "metadata": {},
   "outputs": [
    {
     "data": {
      "text/plain": [
       "0.003600000000000003"
      ]
     },
     "execution_count": 3,
     "metadata": {},
     "output_type": "execute_result"
    }
   ],
   "source": [
    "from scipy.stats import binom\n",
    "binomial = binom.pmf(3, 4, 0.1)\n",
    "binomial"
   ]
  },
  {
   "cell_type": "markdown",
   "metadata": {},
   "source": [
    "# 8. Determine the following:\n",
    "\n",
    "a) For n = 4 and p = 0.12, what is P(X = 0)?\n",
    "\n",
    "b) For n = 6 and p = 0.83, what is P(X = 5)?"
   ]
  },
  {
   "cell_type": "code",
   "execution_count": 8,
   "metadata": {},
   "outputs": [
    {
     "data": {
      "text/plain": [
       "(0.59969536, 0.4017821455860002)"
      ]
     },
     "execution_count": 8,
     "metadata": {},
     "output_type": "execute_result"
    }
   ],
   "source": [
    "binomial = binom.pmf(0, 4, 0.12)\n",
    "binomial2 = binom.pmf(5, 6, 0.83)\n",
    "binomial, binomial2"
   ]
  },
  {
   "cell_type": "markdown",
   "metadata": {},
   "source": [
    "# 9.Determine the mean and standard deviation of the variable X in each of the following binomial distributions:\n",
    "\n",
    "a) n = 4 and p = 0.10\n",
    "\n",
    "b) n = 5 and p = 0.80"
   ]
  },
  {
   "cell_type": "code",
   "execution_count": 21,
   "metadata": {},
   "outputs": [
    {
     "name": "stdout",
     "output_type": "stream",
     "text": [
      "0.4 0.6000000000000001\n",
      "4.0 0.8944271909999157\n"
     ]
    }
   ],
   "source": [
    "print(binom.mean(4, 0.10), binom.std(4, 0.10))\n",
    "print(binom.mean(5, 0.80), binom.std(5, 0.80))"
   ]
  },
  {
   "cell_type": "markdown",
   "metadata": {},
   "source": [
    "# 10. Assume a poisson distribution with lambda = 5.0. What is the probability that\n",
    "a) X <= 1?\n",
    "\n",
    "b) X > 1?"
   ]
  },
  {
   "cell_type": "code",
   "execution_count": 24,
   "metadata": {},
   "outputs": [
    {
     "data": {
      "text/plain": [
       "(0.040427681994512805, 0.986524106001829)"
      ]
     },
     "execution_count": 24,
     "metadata": {},
     "output_type": "execute_result"
    }
   ],
   "source": [
    "from scipy.stats import poisson\n",
    "poisson.pmf(0, 5.0) + poisson.pmf(1, 5.0), 1 - (poisson.pmf(0, 5.0) + poisson.pmf(0, 5.0))"
   ]
  },
  {
   "cell_type": "markdown",
   "metadata": {},
   "source": [
    "# 11. The number of work related injuries per month in a manufacturing plant is known to follow a Poisson distribution, with a mean of 2.5 work-related injuries a month.\n",
    "\n",
    "a) What is the probability that in a given month, no work-related injuries occur?\n",
    "\n",
    "b) That at least one work- related injury occurs?\n",
    "\n",
    "Hint: Use Poisson distribution equation, find X = 0, Given lambda = 2.5"
   ]
  },
  {
   "cell_type": "code",
   "execution_count": 6,
   "metadata": {},
   "outputs": [
    {
     "data": {
      "text/plain": [
       "(0.0820849986238988, 0.9179150013761012)"
      ]
     },
     "execution_count": 6,
     "metadata": {},
     "output_type": "execute_result"
    }
   ],
   "source": [
    "from scipy.stats import poisson\n",
    "dist = poisson.pmf(0, 2.5)\n",
    "dist, 1 - dist"
   ]
  },
  {
   "cell_type": "markdown",
   "metadata": {},
   "source": [
    "# 12. A 5-litre bucket of water is taken from a swamp. The water contains 75 mosquito larvae. A 200mL flask of water is taken form the bucket for further analysis. What is\n",
    "\n",
    "a) the expected number of larvae in the flask?\n",
    "\n",
    "b) the probability that the flask contains at least one mosquito lava?"
   ]
  },
  {
   "cell_type": "code",
   "execution_count": 10,
   "metadata": {},
   "outputs": [
    {
     "data": {
      "text/plain": [
       "0.950212931632136"
      ]
     },
     "execution_count": 10,
     "metadata": {},
     "output_type": "execute_result"
    }
   ],
   "source": [
    "dist = poisson.pmf(0, 3)\n",
    "1 - dist"
   ]
  },
  {
   "cell_type": "markdown",
   "metadata": {},
   "source": [
    "# 13. Why the need of Standardization? Why do we us Z instead of “the Number of Standard Deviations”?"
   ]
  },
  {
   "cell_type": "code",
   "execution_count": null,
   "metadata": {},
   "outputs": [],
   "source": []
  },
  {
   "cell_type": "markdown",
   "metadata": {},
   "source": [
    "# 14. A radar unit is used to measure speeds of cars on a Mumbai – Pune Highway. The speeds are normally distributed with a mean of 70 km/hr and a standard deviation of 10 km/hr.\n",
    "\n",
    "a)What is the probability that a car picked at random is travelling at more than 100 km/hr?\n",
    "\n",
    "b)What is the probability that the car speed is between 80 Km / hr and 100 Km / hr\n",
    "\n",
    "Hint: You can make use of Excel"
   ]
  },
  {
   "cell_type": "code",
   "execution_count": 15,
   "metadata": {},
   "outputs": [
    {
     "data": {
      "text/plain": [
       "0.02275013194817921"
      ]
     },
     "execution_count": 15,
     "metadata": {},
     "output_type": "execute_result"
    }
   ],
   "source": [
    "import scipy.stats as stats\n",
    "z = (100 - 70)/10\n",
    "1 - stats.norm.cdf(z)\n",
    "z1 = (100 - 80)/10\n",
    "1 - stats.norm.cdf(z1)"
   ]
  },
  {
   "cell_type": "markdown",
   "metadata": {},
   "source": [
    "# 15. The percentage of orders filled correctly at Wendy's was approximately 86.8%. Suppose that you go to drive-through window at Wendy's and place an order. Two friends of yours independently place orders at the drive-through window at the same Wendy's.\n",
    "\n",
    "What are the probabilities that\n",
    "\n",
    "a) all three filled correctly?\n",
    "\n",
    "b) none of the three filled correctly?\n",
    "\n",
    "c) atleast two of the three orders will be filled correctly?\n",
    "\n",
    "d) what is the mean and standard deviation of the orders filled correctly?"
   ]
  },
  {
   "cell_type": "code",
   "execution_count": 31,
   "metadata": {},
   "outputs": [],
   "source": [
    "p = 0.868\n",
    "n = 3\n",
    "import numpy as np\n",
    "import pandas as pd\n",
    "import scipy.stats as stats\n",
    "import matplotlib.pyplot as plt\n",
    "k = np.arange(0, 4)"
   ]
  },
  {
   "cell_type": "code",
   "execution_count": 17,
   "metadata": {},
   "outputs": [],
   "source": [
    "from scipy.stats import binom\n",
    "binomial = binom.pmf(k, n, p)"
   ]
  },
  {
   "cell_type": "code",
   "execution_count": 18,
   "metadata": {},
   "outputs": [
    {
     "name": "stdout",
     "output_type": "stream",
     "text": [
      "[0.00229997 0.0453721  0.2983559  0.65397203]\n"
     ]
    }
   ],
   "source": [
    "print(binomial)"
   ]
  },
  {
   "cell_type": "code",
   "execution_count": 19,
   "metadata": {},
   "outputs": [
    {
     "name": "stdout",
     "output_type": "stream",
     "text": [
      "a) all the three orders are filled correctly? is 0.6540\n"
     ]
    }
   ],
   "source": [
    "print('a) all the three orders are filled correctly? is %1.4f' %binomial[3])"
   ]
  },
  {
   "cell_type": "code",
   "execution_count": 20,
   "metadata": {},
   "outputs": [
    {
     "name": "stdout",
     "output_type": "stream",
     "text": [
      "b) none of the three orders are filled correctly? is 0.0023\n"
     ]
    }
   ],
   "source": [
    "print('b) none of the three orders are filled correctly? is %1.4f' %binomial[0])"
   ]
  },
  {
   "cell_type": "code",
   "execution_count": 21,
   "metadata": {},
   "outputs": [],
   "source": [
    "cumbinomial = binom.cdf(k, n, p)"
   ]
  },
  {
   "cell_type": "code",
   "execution_count": 22,
   "metadata": {},
   "outputs": [
    {
     "name": "stdout",
     "output_type": "stream",
     "text": [
      "[0.00229997 0.04767206 0.34602797 1.        ]\n"
     ]
    }
   ],
   "source": [
    "print(cumbinomial)"
   ]
  },
  {
   "cell_type": "code",
   "execution_count": 23,
   "metadata": {},
   "outputs": [
    {
     "name": "stdout",
     "output_type": "stream",
     "text": [
      "c) atleast two of the three orders are filled correctly? is 0.9523\n"
     ]
    }
   ],
   "source": [
    "P = 1 - cumbinomial[1]\n",
    "print('c) atleast two of the three orders are filled correctly? is %1.4f' % P)"
   ]
  },
  {
   "cell_type": "code",
   "execution_count": 27,
   "metadata": {},
   "outputs": [
    {
     "name": "stdout",
     "output_type": "stream",
     "text": [
      "mean and standard deviation of the orders filled correctly are 2.6040 and  0.5863 respectively\n"
     ]
    }
   ],
   "source": [
    "mean = n * p\n",
    "sd = np.sqrt(n * p * (1 - p))\n",
    "print('mean and standard deviation of the orders filled correctly are %1.4f and  %1.4f respectively' % (mean, sd))"
   ]
  },
  {
   "cell_type": "code",
   "execution_count": 32,
   "metadata": {},
   "outputs": [
    {
     "data": {
      "image/png": "[encoded data removed]",
      "text/plain": [
       "<Figure size 432x288 with 1 Axes>"
      ]
     },
     "metadata": {
      "needs_background": "light"
     },
     "output_type": "display_data"
    }
   ],
   "source": [
    "plt.plot(k, binomial, 'o-')\n",
    "plt.title('Binomial')\n",
    "plt.xlabel('Number of orders filled correctly')\n",
    "plt.ylabel('Probablity of orders filled correctly')\n",
    "plt.show()"
   ]
  },
  {
   "cell_type": "code",
   "execution_count": null,
   "metadata": {},
   "outputs": [],
   "source": []
  }
 ],
 "metadata": {
  "kernelspec": {
   "display_name": "Python 3",
   "language": "python",
   "name": "python3"
  },
  "language_info": {
   "codemirror_mode": {
    "name": "ipython",
    "version": 3
   },
   "file_extension": ".py",
   "mimetype": "text/x-python",
   "name": "python",
   "nbconvert_exporter": "python",
   "pygments_lexer": "ipython3",
   "version": "3.7.3"
  }
 },
 "nbformat": 4,
 "nbformat_minor": 2
}
