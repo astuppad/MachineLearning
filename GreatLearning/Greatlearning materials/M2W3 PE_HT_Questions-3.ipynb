{
 "cells": [
  {
   "cell_type": "markdown",
   "metadata": {},
   "source": [
    "# 1. You are a manager of a chinese restaurant. You want to determine whether the waiting time to place an order has changed in the past month from its previous population mean value of 4.5 minutes. State the null and alternative hypothesis."
   ]
  },
  {
   "cell_type": "code",
   "execution_count": null,
   "metadata": {},
   "outputs": [],
   "source": [
    "null hypothesis H0: 4.5\n",
    "Alternate hypothesis H1: != 4.5"
   ]
  },
  {
   "cell_type": "markdown",
   "metadata": {},
   "source": [
    "# 2. Summarize the p- value Approach to hypothesis testing."
   ]
  },
  {
   "cell_type": "code",
   "execution_count": null,
   "metadata": {},
   "outputs": [],
   "source": [
    "Step 1: State the null hypothesis, H0, and the alternate hypothesis, H1.\n",
    "Step 2: Choose the level of significance, α, and the sample size, n. The level of significance is based on the \n",
    "    relative importance of the risks of computing Type 1 and Type 2 errors in the problem.\n",
    "Step 3: Determine the apppropriate test statistic and the sampling distribution.\n",
    "Step 4: Collect the sample data, compute the value of the test statistic, and compute the p-value.\n",
    "Step 5: Make the statistical decision and state the managerial conclusion in the context of the theory, claim, or \n",
    "    assertion being tested. If the p-value is less than α, reject the null hypothesis."
   ]
  },
  {
   "cell_type": "markdown",
   "metadata": {},
   "source": [
    "# 3. If you use a 0.05 level of significance in a two-tail hypothesis test. What decision will you make if Zstat = +2.21?"
   ]
  },
  {
   "cell_type": "code",
   "execution_count": 2,
   "metadata": {},
   "outputs": [
    {
     "data": {
      "text/plain": [
       "True"
      ]
     },
     "execution_count": 2,
     "metadata": {},
     "output_type": "execute_result"
    }
   ],
   "source": [
    "Zstat = +2.21 > 1.96\n",
    "Zstat"
   ]
  },
  {
   "cell_type": "markdown",
   "metadata": {},
   "source": [
    "# 4. If you use a 0.01 level of significance in a two tail hypothesis test, what is your decision rule for rejecting H0: µ = 12.5 if you use the Z test?"
   ]
  },
  {
   "cell_type": "code",
   "execution_count": null,
   "metadata": {},
   "outputs": [],
   "source": [
    "Reject H0: if Zstat < -2.58 or Zstat > +2.58"
   ]
  },
  {
   "cell_type": "markdown",
   "metadata": {},
   "source": [
    "# 5. What is the p value if, in a two-tail hypothesis test, Zstat = +2.00?"
   ]
  },
  {
   "cell_type": "code",
   "execution_count": 4,
   "metadata": {},
   "outputs": [
    {
     "data": {
      "text/plain": [
       "0.04550026389635839"
      ]
     },
     "execution_count": 4,
     "metadata": {},
     "output_type": "execute_result"
    }
   ],
   "source": [
    "import scipy.stats as st\n",
    "st.norm.sf(2.0)*2"
   ]
  },
  {
   "cell_type": "markdown",
   "metadata": {},
   "source": [
    "# 6. A bottled water distributor wants to determine whether the mean amount of water contained in 1- gallon bottles purchased from a nationality known water bottling company is actually 1 gallon. You know from the water bottle company specifications that the standard deviation of the amount of water per bottle is 0.02 gallon. You select a random sample of 50 bottles, and the mean amount of water per gallon bottle is 0.995 gallon.\n",
    "\n",
    "a) Is there evidence that the mean amount is different from 1.0 gallon?(Use α = 0.01)\n",
    "\n",
    "b) Construct a 99% confidence interval estimate of the population mean amount of water per bottle.\n",
    "\n",
    "c) Compare the results of a and b. What conclusions do you reach?"
   ]
  },
  {
   "cell_type": "code",
   "execution_count": 23,
   "metadata": {},
   "outputs": [
    {
     "data": {
      "text/plain": [
       "True"
      ]
     },
     "execution_count": 23,
     "metadata": {},
     "output_type": "execute_result"
    }
   ],
   "source": [
    "z = (0.995 - 1) / (0.02 / math.sqrt(50))\n",
    "a = - 2.58 < z < 2.58     \n",
    "b = True\n",
    "a == b"
   ]
  },
  {
   "cell_type": "markdown",
   "metadata": {},
   "source": [
    "# 7.  If in sample of n = 16 selected from a normal population, Xbar = 56 and S = 12, what is the value of tstat if you are testing the null hypothesis Ho : µ = 50?"
   ]
  },
  {
   "cell_type": "code",
   "execution_count": 20,
   "metadata": {},
   "outputs": [
    {
     "data": {
      "text/plain": [
       "2.0"
      ]
     },
     "execution_count": 20,
     "metadata": {},
     "output_type": "execute_result"
    }
   ],
   "source": [
    "(56-50)/(12/math.sqrt(16))"
   ]
  },
  {
   "cell_type": "markdown",
   "metadata": {},
   "source": [
    "# 8. If in a sample of n  = 16 selected from a left-skewed population, Xbar = 65 and S =12, would you use the t test to test the null hypothesis H0: µ =60? Discuss."
   ]
  },
  {
   "cell_type": "code",
   "execution_count": null,
   "metadata": {},
   "outputs": [],
   "source": [
    "No because it is left skewed"
   ]
  },
  {
   "cell_type": "markdown",
   "metadata": {},
   "source": [
    "# 9. Calculate Paired t test using python"
   ]
  },
  {
   "cell_type": "markdown",
   "metadata": {},
   "source": [
    "# The file Concrete.csv contains the compressive strength, in thousands • of pounds per square inch (psi), of 40 samples of concrete taken two and seven days after pouring. (Data extracted from O. CarrilloGamboa and R. F. Gunst, “Measurement – Error – Model Collinearities”, Technometrics, 34 (1992): 454 – 464.)"
   ]
  },
  {
   "cell_type": "markdown",
   "metadata": {},
   "source": [
    "# At the 0.01 level of significance, is there evidence that the means strength is lower at two days than at seven days?"
   ]
  },
  {
   "cell_type": "code",
   "execution_count": 33,
   "metadata": {},
   "outputs": [
    {
     "name": "stdout",
     "output_type": "stream",
     "text": [
      "\n",
      " The t-statistic is 9.372 and the p-value is 0.000.\n"
     ]
    }
   ],
   "source": [
    "import pandas as pd\n",
    "concrete_dst = pd.read_csv(\"Concrete.csv\")\n",
    "import numpy as np\n",
    "import scipy.stats as st\n",
    "import matplotlib.pyplot as plt\n",
    "two_sample = st.ttest_rel(concrete_dst.SevenDays, concrete_dst.TwoDays)\n",
    "print(\"\\n The t-statistic is %.3f and the p-value is %.3f.\" % two_sample)"
   ]
  },
  {
   "cell_type": "code",
   "execution_count": 37,
   "metadata": {},
   "outputs": [
    {
     "data": {
      "text/plain": [
       "<matplotlib.axes._subplots.AxesSubplot at 0x2448717cb70>"
      ]
     },
     "execution_count": 37,
     "metadata": {},
     "output_type": "execute_result"
    },
    {
     "data": {
      "image/png": "[encoded data removed]",
      "text/plain": [
       "<Figure size 432x288 with 1 Axes>"
      ]
     },
     "metadata": {
      "needs_background": "light"
     },
     "output_type": "display_data"
    }
   ],
   "source": [
    "%matplotlib inline\n",
    "concrete_dst['diff'] = concrete_dst['SevenDays'] - concrete_dst['TwoDays']\n",
    "concrete_dst['diff'].plot(kind='hist', title='Difference Histogram')"
   ]
  },
  {
   "cell_type": "code",
   "execution_count": 32,
   "metadata": {},
   "outputs": [
    {
     "name": "stdout",
     "output_type": "stream",
     "text": [
      "The t-statistic is 9.372 and the p-value is 0.000.\n"
     ]
    }
   ],
   "source": [
    "one_sample = st.ttest_1samp(concrete_dst['diff'], 0)\n",
    "print(\"The t-statistic is %.3f and the p-value is %.3f.\" % one_sample)"
   ]
  },
  {
   "cell_type": "code",
   "execution_count": null,
   "metadata": {},
   "outputs": [],
   "source": []
  }
 ],
 "metadata": {
  "kernelspec": {
   "display_name": "Python 3",
   "language": "python",
   "name": "python3"
  },
  "language_info": {
   "codemirror_mode": {
    "name": "ipython",
    "version": 3
   },
   "file_extension": ".py",
   "mimetype": "text/x-python",
   "name": "python",
   "nbconvert_exporter": "python",
   "pygments_lexer": "ipython3",
   "version": "3.7.3"
  }
 },
 "nbformat": 4,
 "nbformat_minor": 2
}
