{
 "cells": [
  {
   "cell_type": "code",
   "execution_count": null,
   "metadata": {
    "collapsed": true
   },
   "outputs": [],
   "source": [
    "!pip install numpy\n",
    "!pip install pandas"
   ]
  },
  {
   "cell_type": "code",
   "execution_count": 1,
   "metadata": {
    "collapsed": true
   },
   "outputs": [],
   "source": [
    "import numpy as np\n",
    "import pandas as pd\n",
    "import matplotlib.pyplot as plt\n",
    "%matplotlib inline"
   ]
  },
  {
   "cell_type": "code",
   "execution_count": null,
   "metadata": {
    "collapsed": false
   },
   "outputs": [],
   "source": [
    "Python Basics:\n",
    "-\tInstallation(virtual env, running multiple kernels by  ipykernal)\n",
    "-\tVariables\n",
    "-\tLists\n",
    "-\tdictionary\n",
    "-\tLooping: if else, for, while\n",
    "-\tFunctions: def, calling\n",
    "-\tClasses: def, function def, object creation flow.\n",
    "Numpy:\n",
    "-\tArray\n",
    "-\tRange\n",
    "-\tIndexing(starts from 0), accessing values based on index\n",
    "-\tIndexing matrix\n",
    "\n",
    "Pandas:\n",
    "    - Series\n",
    "    - Dataframes\n",
    "    - Operations on dataframes\n",
    "    - SQL kind of operations."
   ]
  },
  {
   "cell_type": "code",
   "execution_count": null,
   "metadata": {
    "collapsed": true
   },
   "outputs": [],
   "source": [
    "#Python installation\n",
    "https://www.python.org/\n"
   ]
  },
  {
   "cell_type": "markdown",
   "metadata": {},
   "source": [
    "Installation:\n",
    "    - Normal python install\n",
    "    - Anaconda install\n",
    "Install packages: \n",
    "    - pip install [pkg_name]=[verison]\n",
    "    - uninstall: pip uninstall [pkg_name]\n",
    "\n",
    "Virtual environment:\n",
    "    - why it is needed?\n",
    "    - How to create virtual env?  conda create -n [venv_name] [python=2.7]\n",
    "    - activate and deactivate virtual env: source activate venv_name, source deactive venv_name\n",
    "    - installing ipykernel for virtual env"
   ]
  },
  {
   "cell_type": "markdown",
   "metadata": {
    "collapsed": true
   },
   "source": [
    "# Variables and Datatypes"
   ]
  },
  {
   "cell_type": "code",
   "execution_count": 2,
   "metadata": {
    "collapsed": false
   },
   "outputs": [
    {
     "data": {
      "text/plain": [
       "5.0"
      ]
     },
     "execution_count": 2,
     "metadata": {},
     "output_type": "execute_result"
    }
   ],
   "source": [
    "i=5.0\n",
    "i\n"
   ]
  },
  {
   "cell_type": "code",
   "execution_count": 3,
   "metadata": {
    "collapsed": false
   },
   "outputs": [
    {
     "data": {
      "text/plain": [
       "float"
      ]
     },
     "execution_count": 3,
     "metadata": {},
     "output_type": "execute_result"
    }
   ],
   "source": [
    "type(i)"
   ]
  },
  {
   "cell_type": "code",
   "execution_count": 4,
   "metadata": {
    "collapsed": false
   },
   "outputs": [
    {
     "name": "stdout",
     "output_type": "stream",
     "text": [
      "5\n",
      "<type 'int'>\n",
      "abc\n"
     ]
    }
   ],
   "source": [
    "i=5\n",
    "print i #for python 3.5 print(i)\n",
    "print type(i)\n",
    "i='abc' #can be re-assigned with different types\n",
    "print i"
   ]
  },
  {
   "cell_type": "code",
   "execution_count": 5,
   "metadata": {
    "collapsed": false
   },
   "outputs": [
    {
     "data": {
      "text/plain": [
       "str"
      ]
     },
     "execution_count": 5,
     "metadata": {},
     "output_type": "execute_result"
    }
   ],
   "source": [
    "type(i)"
   ]
  },
  {
   "cell_type": "code",
   "execution_count": null,
   "metadata": {
    "collapsed": false
   },
   "outputs": [],
   "source": [
    "#Add concate\n",
    "n1=10\n",
    "n2=5.4\n",
    "str1='hello'\n",
    "str2='world'\n",
    "print n1+n1\n",
    "print str1+str2\n"
   ]
  },
  {
   "cell_type": "code",
   "execution_count": 7,
   "metadata": {
    "collapsed": false
   },
   "outputs": [
    {
     "data": {
      "text/plain": [
       "str"
      ]
     },
     "execution_count": 7,
     "metadata": {},
     "output_type": "execute_result"
    }
   ],
   "source": [
    "#print type of variable\n",
    "type(i)"
   ]
  },
  {
   "cell_type": "markdown",
   "metadata": {},
   "source": [
    "# List"
   ]
  },
  {
   "cell_type": "code",
   "execution_count": 6,
   "metadata": {
    "collapsed": false
   },
   "outputs": [
    {
     "name": "stdout",
     "output_type": "stream",
     "text": [
      "lenght:  4\n",
      "first element: 10\n",
      "last element: 2\n",
      "updated list:  [10, 20, 5, 2]\n"
     ]
    }
   ],
   "source": [
    "#list\n",
    "l=[10,4,5,2] #index starts from 0\n",
    "print 'lenght: ', len(l)\n",
    "#access list by index\n",
    "print 'first element:',l[0]\n",
    "print 'last element:',l[-1]\n",
    "#assign new value to list\n",
    "l[1]=20\n",
    "print 'updated list: ', l"
   ]
  },
  {
   "cell_type": "code",
   "execution_count": 10,
   "metadata": {
    "collapsed": false
   },
   "outputs": [],
   "source": [
    "l=[10,4,5,2,'z']\n",
    "l\n",
    "l2=[10,4,5,2]\n"
   ]
  },
  {
   "cell_type": "code",
   "execution_count": 9,
   "metadata": {
    "collapsed": false
   },
   "outputs": [
    {
     "data": {
      "text/plain": [
       "array(['10', '4', '5', '2', 'z'], dtype='|S21')"
      ]
     },
     "execution_count": 9,
     "metadata": {},
     "output_type": "execute_result"
    }
   ],
   "source": [
    "import numpy as np\n",
    "np.array(l)"
   ]
  },
  {
   "cell_type": "code",
   "execution_count": 11,
   "metadata": {
    "collapsed": false
   },
   "outputs": [
    {
     "data": {
      "text/plain": [
       "array([10,  4,  5,  2])"
      ]
     },
     "execution_count": 11,
     "metadata": {},
     "output_type": "execute_result"
    }
   ],
   "source": [
    "np.array(l2)"
   ]
  },
  {
   "cell_type": "code",
   "execution_count": 18,
   "metadata": {
    "collapsed": false
   },
   "outputs": [
    {
     "name": "stdout",
     "output_type": "stream",
     "text": [
      "[10, 4, 5, 2, 'z']\n"
     ]
    },
    {
     "data": {
      "text/plain": [
       "[10, 4, 5]"
      ]
     },
     "execution_count": 18,
     "metadata": {},
     "output_type": "execute_result"
    }
   ],
   "source": [
    "print l\n",
    "l[:3]"
   ]
  },
  {
   "cell_type": "code",
   "execution_count": 10,
   "metadata": {
    "collapsed": false
   },
   "outputs": [
    {
     "data": {
      "text/plain": [
       "[5, 2]"
      ]
     },
     "execution_count": 10,
     "metadata": {},
     "output_type": "execute_result"
    }
   ],
   "source": [
    "l[2:4]# 2,a3,"
   ]
  },
  {
   "cell_type": "code",
   "execution_count": 11,
   "metadata": {
    "collapsed": false
   },
   "outputs": [
    {
     "data": {
      "text/plain": [
       "[1, 2, 3, 4]"
      ]
     },
     "execution_count": 11,
     "metadata": {},
     "output_type": "execute_result"
    }
   ],
   "source": [
    "l=[1,2,3,4]\n",
    "l"
   ]
  },
  {
   "cell_type": "code",
   "execution_count": 19,
   "metadata": {
    "collapsed": false
   },
   "outputs": [
    {
     "name": "stdout",
     "output_type": "stream",
     "text": [
      "[10, 4, 5, 2, 'z']\n"
     ]
    },
    {
     "data": {
      "text/plain": [
       "[15, 4, 5, 2, 'z']"
      ]
     },
     "execution_count": 19,
     "metadata": {},
     "output_type": "execute_result"
    }
   ],
   "source": [
    "print l\n",
    "l[0]=15\n",
    "l"
   ]
  },
  {
   "cell_type": "code",
   "execution_count": 22,
   "metadata": {
    "collapsed": false
   },
   "outputs": [
    {
     "data": {
      "text/plain": [
       "'e'"
      ]
     },
     "execution_count": 22,
     "metadata": {},
     "output_type": "execute_result"
    }
   ],
   "source": [
    "s='hello'\n"
   ]
  },
  {
   "cell_type": "code",
   "execution_count": 23,
   "metadata": {
    "collapsed": false
   },
   "outputs": [
    {
     "name": "stdout",
     "output_type": "stream",
     "text": [
      "h\n"
     ]
    },
    {
     "ename": "TypeError",
     "evalue": "'str' object does not support item assignment",
     "output_type": "error",
     "traceback": [
      "\u001b[0;31m---------------------------------------------------------------------------\u001b[0m",
      "\u001b[0;31mTypeError\u001b[0m                                 Traceback (most recent call last)",
      "\u001b[0;32m<ipython-input-23-b233c266f2d1>\u001b[0m in \u001b[0;36m<module>\u001b[0;34m()\u001b[0m\n\u001b[1;32m      2\u001b[0m \u001b[0ms\u001b[0m\u001b[0;34m=\u001b[0m\u001b[0;34m'hello'\u001b[0m\u001b[0;34m\u001b[0m\u001b[0m\n\u001b[1;32m      3\u001b[0m \u001b[0;32mprint\u001b[0m \u001b[0ms\u001b[0m\u001b[0;34m[\u001b[0m\u001b[0;36m0\u001b[0m\u001b[0;34m]\u001b[0m\u001b[0;34m\u001b[0m\u001b[0m\n\u001b[0;32m----> 4\u001b[0;31m \u001b[0ms\u001b[0m\u001b[0;34m[\u001b[0m\u001b[0;36m0\u001b[0m\u001b[0;34m]\u001b[0m\u001b[0;34m=\u001b[0m\u001b[0;34m'c'\u001b[0m \u001b[0;31m#string not mutable\u001b[0m\u001b[0;34m\u001b[0m\u001b[0m\n\u001b[0m",
      "\u001b[0;31mTypeError\u001b[0m: 'str' object does not support item assignment"
     ]
    }
   ],
   "source": [
    "#however string is not mutable. char cannot be assigned using index\n",
    "s='hello'\n",
    "print s[0]\n",
    "s[0]='c' #string not mutable"
   ]
  },
  {
   "cell_type": "code",
   "execution_count": 24,
   "metadata": {
    "collapsed": false
   },
   "outputs": [
    {
     "name": "stdout",
     "output_type": "stream",
     "text": [
      "[4, 5, 6, 7, 8, [1, 2, 3]]\n"
     ]
    }
   ],
   "source": [
    "#List append\n",
    "l1=[4,5,6,7,8]\n",
    "l2=[1,2,3]\n",
    "l1.append(l2)\n",
    "print l1"
   ]
  },
  {
   "cell_type": "code",
   "execution_count": 25,
   "metadata": {
    "collapsed": false
   },
   "outputs": [
    {
     "name": "stdout",
     "output_type": "stream",
     "text": [
      "[4, 5, 6, 7, 8, 1, 2, 3]\n"
     ]
    }
   ],
   "source": [
    "#List Extend\n",
    "l1=[4,5,6,7,8]\n",
    "l2=[1,2,3]\n",
    "l1.extend(l2)\n",
    "print l1"
   ]
  },
  {
   "cell_type": "code",
   "execution_count": 5,
   "metadata": {
    "collapsed": false
   },
   "outputs": [
    {
     "data": {
      "text/plain": [
       "[1, 2, 'abc']"
      ]
     },
     "execution_count": 5,
     "metadata": {},
     "output_type": "execute_result"
    }
   ],
   "source": [
    "#List can have diffent types of element\n",
    "l3=[1,2,3]\n",
    "l3[2]='abc'\n",
    "l3"
   ]
  },
  {
   "cell_type": "markdown",
   "metadata": {},
   "source": [
    "DICTIONARY"
   ]
  },
  {
   "cell_type": "code",
   "execution_count": 26,
   "metadata": {
    "collapsed": false
   },
   "outputs": [
    {
     "data": {
      "text/plain": [
       "{'Age': 20, 'name': 'Adams'}"
      ]
     },
     "execution_count": 26,
     "metadata": {},
     "output_type": "execute_result"
    }
   ],
   "source": [
    "d={'name':'Adams','Age':20}\n",
    "d"
   ]
  },
  {
   "cell_type": "code",
   "execution_count": 27,
   "metadata": {
    "collapsed": false
   },
   "outputs": [
    {
     "name": "stdout",
     "output_type": "stream",
     "text": [
      "['Age', 'name']\n",
      "[('Age', 20), ('name', 'Adams')]\n",
      "[20, 'Adams']\n"
     ]
    }
   ],
   "source": [
    "print d.keys()\n",
    "print d.items()\n",
    "print d.values()"
   ]
  },
  {
   "cell_type": "code",
   "execution_count": 28,
   "metadata": {
    "collapsed": false
   },
   "outputs": [
    {
     "data": {
      "text/plain": [
       "'Adams'"
      ]
     },
     "execution_count": 28,
     "metadata": {},
     "output_type": "execute_result"
    }
   ],
   "source": [
    "d.get('name')"
   ]
  },
  {
   "cell_type": "code",
   "execution_count": 22,
   "metadata": {
    "collapsed": false
   },
   "outputs": [
    {
     "data": {
      "text/plain": [
       "'Adams'"
      ]
     },
     "execution_count": 22,
     "metadata": {},
     "output_type": "execute_result"
    }
   ],
   "source": [
    "#access using keys\n",
    "d['name']"
   ]
  },
  {
   "cell_type": "code",
   "execution_count": 29,
   "metadata": {
    "collapsed": false
   },
   "outputs": [
    {
     "data": {
      "text/plain": [
       "{'Age': 20, 'name': 'John'}"
      ]
     },
     "execution_count": 29,
     "metadata": {},
     "output_type": "execute_result"
    }
   ],
   "source": [
    "#update dict\n",
    "d['name']='John'\n",
    "d"
   ]
  },
  {
   "cell_type": "code",
   "execution_count": 30,
   "metadata": {
    "collapsed": false
   },
   "outputs": [
    {
     "data": {
      "text/plain": [
       "{'a': 1, 'b': 2}"
      ]
     },
     "execution_count": 30,
     "metadata": {},
     "output_type": "execute_result"
    }
   ],
   "source": [
    "#define dict using two series using zip\n",
    "dict(zip(['a','b'],[1,2]))"
   ]
  },
  {
   "cell_type": "code",
   "execution_count": 83,
   "metadata": {
    "collapsed": false
   },
   "outputs": [],
   "source": [
    "import pandas as pd\n",
    "df = pd.DataFrame(dict(zip(['a','b'],[1,2])),index=range(2))"
   ]
  },
  {
   "cell_type": "code",
   "execution_count": 86,
   "metadata": {
    "collapsed": false
   },
   "outputs": [
    {
     "name": "stdout",
     "output_type": "stream",
     "text": [
      "<class 'pandas.core.frame.DataFrame'>\n",
      "Int64Index: 2 entries, 0 to 1\n",
      "Data columns (total 2 columns):\n",
      "a    2 non-null int64\n",
      "b    2 non-null int64\n",
      "dtypes: int64(2)\n",
      "memory usage: 48.0 bytes\n"
     ]
    }
   ],
   "source": [
    "df.info(memory_usage=True)"
   ]
  },
  {
   "cell_type": "markdown",
   "metadata": {},
   "source": [
    "# Looping"
   ]
  },
  {
   "cell_type": "code",
   "execution_count": 33,
   "metadata": {
    "collapsed": false
   },
   "outputs": [
    {
     "name": "stdout",
     "output_type": "stream",
     "text": [
      "value is zero\n"
     ]
    }
   ],
   "source": [
    "i=0\n",
    "if i==0:\n",
    "    print 'value is zero'\n",
    "elif i<0:\n",
    "    print 'value is negative'\n",
    "else:\n",
    "    print 'Non zero positive number'"
   ]
  },
  {
   "cell_type": "code",
   "execution_count": 34,
   "metadata": {
    "collapsed": false
   },
   "outputs": [
    {
     "name": "stdout",
     "output_type": "stream",
     "text": [
      "child\n",
      "child\n",
      "young\n",
      "young\n",
      "old\n",
      "old\n",
      "child\n"
     ]
    }
   ],
   "source": [
    "age=[10,12,20,30,40,50,5]\n",
    "for i in age:\n",
    "    if i <=12:\n",
    "        print 'child'\n",
    "    elif i>12 and i<40:\n",
    "        print 'young'\n",
    "    else:\n",
    "        print 'old'"
   ]
  },
  {
   "cell_type": "markdown",
   "metadata": {},
   "source": [
    "# Methods,functions"
   ]
  },
  {
   "cell_type": "code",
   "execution_count": 35,
   "metadata": {
    "collapsed": true
   },
   "outputs": [],
   "source": [
    "def prime(n):\n",
    "    ctr=0\n",
    "    for i in range(1,n/2+1):\n",
    "        if n%i==0:\n",
    "            ctr=ctr+1\n",
    "    if ctr>1:\n",
    "        return 'Not Prime'\n",
    "    else:\n",
    "        return 'Prime'\n",
    "        "
   ]
  },
  {
   "cell_type": "code",
   "execution_count": 36,
   "metadata": {
    "collapsed": false
   },
   "outputs": [
    {
     "name": "stdout",
     "output_type": "stream",
     "text": [
      "Prime\n",
      "Not Prime\n",
      "Prime\n",
      "Not Prime\n",
      "Prime\n"
     ]
    }
   ],
   "source": [
    "print prime(2)\n",
    "print prime(4)\n",
    "print prime(5)\n",
    "print prime(10)\n",
    "print prime(13)"
   ]
  },
  {
   "cell_type": "code",
   "execution_count": 57,
   "metadata": {
    "collapsed": true
   },
   "outputs": [],
   "source": [
    "class circle:\n",
    "    def __init__(self):\n",
    "        pass\n",
    "    def area(self,radius):\n",
    "        return radius*radius\n",
    "    def perimeter(self):\n",
    "        return 2*3.14*self.radius"
   ]
  },
  {
   "cell_type": "code",
   "execution_count": 59,
   "metadata": {
    "collapsed": false
   },
   "outputs": [],
   "source": [
    "obj = circle()"
   ]
  },
  {
   "cell_type": "code",
   "execution_count": 61,
   "metadata": {
    "collapsed": false
   },
   "outputs": [
    {
     "data": {
      "text/plain": [
       "16"
      ]
     },
     "execution_count": 61,
     "metadata": {},
     "output_type": "execute_result"
    }
   ],
   "source": [
    "obj.area(4)"
   ]
  },
  {
   "cell_type": "code",
   "execution_count": 55,
   "metadata": {
    "collapsed": false
   },
   "outputs": [
    {
     "data": {
      "text/plain": [
       "25.12"
      ]
     },
     "execution_count": 55,
     "metadata": {},
     "output_type": "execute_result"
    }
   ],
   "source": [
    "obj.perimeter()"
   ]
  },
  {
   "cell_type": "code",
   "execution_count": 65,
   "metadata": {
    "collapsed": true
   },
   "outputs": [],
   "source": [
    "class car:\n",
    "    def __init__(self,m):\n",
    "        self.m = m\n",
    "    def region_of_m(self):\n",
    "        if self.m=='TATA':\n",
    "            return 'Indian'\n",
    "        else:\n",
    "            return 'Non_IND'"
   ]
  },
  {
   "cell_type": "code",
   "execution_count": 66,
   "metadata": {
    "collapsed": true
   },
   "outputs": [],
   "source": [
    "car_obj=car('HOnda')"
   ]
  },
  {
   "cell_type": "code",
   "execution_count": 67,
   "metadata": {
    "collapsed": false
   },
   "outputs": [
    {
     "data": {
      "text/plain": [
       "'Non_IND'"
      ]
     },
     "execution_count": 67,
     "metadata": {},
     "output_type": "execute_result"
    }
   ],
   "source": [
    "car_obj.region_of_m()"
   ]
  },
  {
   "cell_type": "code",
   "execution_count": 68,
   "metadata": {
    "collapsed": false
   },
   "outputs": [
    {
     "data": {
      "text/plain": [
       "'Indian'"
      ]
     },
     "execution_count": 68,
     "metadata": {},
     "output_type": "execute_result"
    }
   ],
   "source": [
    "car_obj=car('TATA')\n",
    "car_obj.region_of_m()"
   ]
  },
  {
   "cell_type": "code",
   "execution_count": null,
   "metadata": {
    "collapsed": true
   },
   "outputs": [],
   "source": []
  },
  {
   "cell_type": "markdown",
   "metadata": {},
   "source": [
    "# Numpy"
   ]
  },
  {
   "cell_type": "code",
   "execution_count": 69,
   "metadata": {
    "collapsed": true
   },
   "outputs": [],
   "source": [
    "#pip install numpy\n",
    "import numpy as np"
   ]
  },
  {
   "cell_type": "code",
   "execution_count": 70,
   "metadata": {
    "collapsed": true
   },
   "outputs": [],
   "source": [
    "simple_list=[1,2,3,4]"
   ]
  },
  {
   "cell_type": "code",
   "execution_count": null,
   "metadata": {
    "collapsed": true
   },
   "outputs": [],
   "source": []
  },
  {
   "cell_type": "code",
   "execution_count": 71,
   "metadata": {
    "collapsed": false
   },
   "outputs": [
    {
     "data": {
      "text/plain": [
       "array([1, 2, 3, 4])"
      ]
     },
     "execution_count": 71,
     "metadata": {},
     "output_type": "execute_result"
    }
   ],
   "source": [
    "np.array(simple_list)"
   ]
  },
  {
   "cell_type": "code",
   "execution_count": 35,
   "metadata": {
    "collapsed": false
   },
   "outputs": [
    {
     "data": {
      "text/plain": [
       "[0, 1, 2, 3]"
      ]
     },
     "execution_count": 35,
     "metadata": {},
     "output_type": "execute_result"
    }
   ],
   "source": [
    "range(4)\n",
    "for i in range(4):"
   ]
  },
  {
   "cell_type": "code",
   "execution_count": 36,
   "metadata": {
    "collapsed": false
   },
   "outputs": [
    {
     "data": {
      "text/plain": [
       "array([0, 1, 2, 3])"
      ]
     },
     "execution_count": 36,
     "metadata": {},
     "output_type": "execute_result"
    }
   ],
   "source": [
    "np.array(range(4))"
   ]
  },
  {
   "cell_type": "code",
   "execution_count": 37,
   "metadata": {
    "collapsed": false
   },
   "outputs": [
    {
     "data": {
      "text/plain": [
       "array([4, 5, 6, 7, 8, 9])"
      ]
     },
     "execution_count": 37,
     "metadata": {},
     "output_type": "execute_result"
    }
   ],
   "source": [
    "np.array(range(4,10))"
   ]
  },
  {
   "cell_type": "code",
   "execution_count": 72,
   "metadata": {
    "collapsed": false
   },
   "outputs": [
    {
     "data": {
      "text/plain": [
       "[[1, 2, 3], ['a', 'b', 'c'], [4, 5, 6]]"
      ]
     },
     "execution_count": 72,
     "metadata": {},
     "output_type": "execute_result"
    }
   ],
   "source": [
    "list_of_list=[[1,2,3],['a','b','c'],[4,5,6]]\n",
    "list_of_list"
   ]
  },
  {
   "cell_type": "code",
   "execution_count": 73,
   "metadata": {
    "collapsed": false
   },
   "outputs": [
    {
     "data": {
      "text/plain": [
       "array([['1', '2', '3'],\n",
       "       ['a', 'b', 'c'],\n",
       "       ['4', '5', '6']], dtype='|S21')"
      ]
     },
     "execution_count": 73,
     "metadata": {},
     "output_type": "execute_result"
    }
   ],
   "source": [
    "#Array can have single type of element. unlike list which can hold multi type\n",
    "np.array(list_of_list) #here due to one sub list all converted to object type(bigger level in hierarchy)"
   ]
  },
  {
   "cell_type": "code",
   "execution_count": null,
   "metadata": {
    "collapsed": true
   },
   "outputs": [],
   "source": []
  },
  {
   "cell_type": "code",
   "execution_count": 41,
   "metadata": {
    "collapsed": false
   },
   "outputs": [
    {
     "data": {
      "text/plain": [
       "array([[ 1,  2,  3],\n",
       "       [10, 11, 12],\n",
       "       [ 4,  5,  6]])"
      ]
     },
     "execution_count": 41,
     "metadata": {},
     "output_type": "execute_result"
    }
   ],
   "source": [
    "list_of_list=[[1,2,3],[10,11,12],[4,5,6]]\n",
    "np.array(list_of_list) #here all numbers"
   ]
  },
  {
   "cell_type": "code",
   "execution_count": 75,
   "metadata": {
    "collapsed": false
   },
   "outputs": [],
   "source": [
    "import random"
   ]
  },
  {
   "cell_type": "code",
   "execution_count": 77,
   "metadata": {
    "collapsed": false
   },
   "outputs": [
    {
     "data": {
      "text/plain": [
       "0.2719797518792535"
      ]
     },
     "execution_count": 77,
     "metadata": {},
     "output_type": "execute_result"
    }
   ],
   "source": [
    "random.random()"
   ]
  },
  {
   "cell_type": "code",
   "execution_count": 78,
   "metadata": {
    "collapsed": false
   },
   "outputs": [
    {
     "data": {
      "text/plain": [
       "array([0., 0., 0.])"
      ]
     },
     "execution_count": 78,
     "metadata": {},
     "output_type": "execute_result"
    }
   ],
   "source": [
    "np.zeros(3)"
   ]
  },
  {
   "cell_type": "code",
   "execution_count": 79,
   "metadata": {
    "collapsed": false
   },
   "outputs": [
    {
     "data": {
      "text/plain": [
       "array([1., 1., 1., 1., 1., 1., 1., 1., 1., 1.])"
      ]
     },
     "execution_count": 79,
     "metadata": {},
     "output_type": "execute_result"
    }
   ],
   "source": [
    "np.ones(10)"
   ]
  },
  {
   "cell_type": "code",
   "execution_count": 88,
   "metadata": {
    "collapsed": false
   },
   "outputs": [
    {
     "data": {
      "text/plain": [
       "False"
      ]
     },
     "execution_count": 88,
     "metadata": {},
     "output_type": "execute_result"
    }
   ],
   "source": [
    "#check null\n",
    "np.isnan(2)"
   ]
  },
  {
   "cell_type": "code",
   "execution_count": 89,
   "metadata": {
    "collapsed": false
   },
   "outputs": [
    {
     "data": {
      "text/plain": [
       "2.0"
      ]
     },
     "execution_count": 89,
     "metadata": {},
     "output_type": "execute_result"
    }
   ],
   "source": [
    "np.mean([1,2,3]) #other mathematical functions, median ,max, max, sum. statistical elements are also available"
   ]
  },
  {
   "cell_type": "code",
   "execution_count": 82,
   "metadata": {
    "collapsed": false
   },
   "outputs": [
    {
     "data": {
      "text/plain": [
       "1"
      ]
     },
     "execution_count": 82,
     "metadata": {},
     "output_type": "execute_result"
    }
   ],
   "source": [
    "np.min([1,2,3])"
   ]
  },
  {
   "cell_type": "code",
   "execution_count": 46,
   "metadata": {
    "collapsed": false
   },
   "outputs": [
    {
     "data": {
      "text/plain": [
       "array([[0.88646228, 0.69119186, 0.43055653],\n",
       "       [0.05094844, 0.7599431 , 0.78080338],\n",
       "       [0.95824837, 0.24689396, 0.73754106],\n",
       "       [0.14243313, 0.10285946, 0.94189145],\n",
       "       [0.21163543, 0.52488483, 0.74209995]])"
      ]
     },
     "execution_count": 46,
     "metadata": {},
     "output_type": "execute_result"
    }
   ],
   "source": [
    "np.random.rand(5,3) #random number 0 to 1 "
   ]
  },
  {
   "cell_type": "code",
   "execution_count": 90,
   "metadata": {
    "collapsed": false
   },
   "outputs": [
    {
     "data": {
      "text/plain": [
       "array([10, 11, 12, 13, 14, 15, 16, 17, 18, 19])"
      ]
     },
     "execution_count": 90,
     "metadata": {},
     "output_type": "execute_result"
    }
   ],
   "source": [
    "#accessing array\n",
    "sample_arry=np.array(range(10,20))\n",
    "sample_arry"
   ]
  },
  {
   "cell_type": "code",
   "execution_count": 91,
   "metadata": {
    "collapsed": false
   },
   "outputs": [
    {
     "name": "stdout",
     "output_type": "stream",
     "text": [
      "10\n",
      "[10 11 12 13 14 15 16 17]\n",
      "[12 13 14 15 16 17 18 19]\n",
      "[13 14]\n"
     ]
    }
   ],
   "source": [
    "print sample_arry[0]\n",
    "print sample_arry[:-2]\n",
    "print sample_arry[2:]\n",
    "print sample_arry[3:5]"
   ]
  },
  {
   "cell_type": "code",
   "execution_count": 93,
   "metadata": {
    "collapsed": false
   },
   "outputs": [
    {
     "data": {
      "text/plain": [
       "array([13, 14])"
      ]
     },
     "execution_count": 93,
     "metadata": {},
     "output_type": "execute_result"
    }
   ],
   "source": [
    "sub_sample_arry=sample_arry[3:5]\n",
    "sub_sample_arry"
   ]
  },
  {
   "cell_type": "code",
   "execution_count": 94,
   "metadata": {
    "collapsed": false
   },
   "outputs": [
    {
     "data": {
      "text/plain": [
       "array([10, 11, 12, 13, 14, 15, 16, 17, 18, 19])"
      ]
     },
     "execution_count": 94,
     "metadata": {},
     "output_type": "execute_result"
    }
   ],
   "source": [
    "sample_arry"
   ]
  },
  {
   "cell_type": "code",
   "execution_count": 95,
   "metadata": {
    "collapsed": false
   },
   "outputs": [
    {
     "data": {
      "text/plain": [
       "array([13, 14])"
      ]
     },
     "execution_count": 95,
     "metadata": {},
     "output_type": "execute_result"
    }
   ],
   "source": [
    "sub_sample_arry"
   ]
  },
  {
   "cell_type": "code",
   "execution_count": 96,
   "metadata": {
    "collapsed": false
   },
   "outputs": [
    {
     "data": {
      "text/plain": [
       "array([100, 100])"
      ]
     },
     "execution_count": 96,
     "metadata": {},
     "output_type": "execute_result"
    }
   ],
   "source": [
    "#broadcasting the array value\n",
    "sub_sample_arry[:]=100\n",
    "sub_sample_arry"
   ]
  },
  {
   "cell_type": "code",
   "execution_count": 53,
   "metadata": {
    "collapsed": false
   },
   "outputs": [
    {
     "data": {
      "text/plain": [
       "array([ 10,  11,  12, 100, 100,  15,  16,  17,  18,  19])"
      ]
     },
     "execution_count": 53,
     "metadata": {},
     "output_type": "execute_result"
    }
   ],
   "source": [
    "sample_arry #value has been changed in original array. since subset was view of original. no separate memory was Allocated."
   ]
  },
  {
   "cell_type": "code",
   "execution_count": 98,
   "metadata": {
    "collapsed": true
   },
   "outputs": [],
   "source": [
    "import random"
   ]
  },
  {
   "cell_type": "code",
   "execution_count": 109,
   "metadata": {
    "collapsed": false
   },
   "outputs": [
    {
     "data": {
      "text/plain": [
       "array([0.20496254, 0.00395204, 0.97137238, 0.98030077, 0.51973728,\n",
       "       0.99406496])"
      ]
     },
     "execution_count": 109,
     "metadata": {},
     "output_type": "execute_result"
    }
   ],
   "source": [
    "arr = np.random.rand(3,6)\n",
    "arr[0]"
   ]
  },
  {
   "cell_type": "code",
   "execution_count": 114,
   "metadata": {
    "collapsed": false
   },
   "outputs": [
    {
     "data": {
      "text/plain": [
       "matrix([[0.20496254, 0.00395204, 0.97137238, 0.98030077, 0.51973728,\n",
       "         0.99406496],\n",
       "        [0.9760627 , 0.57782015, 0.89433635, 0.62604937, 0.89877529,\n",
       "         0.89426721],\n",
       "        [0.31301974, 0.49583966, 0.39650836, 0.02819161, 0.04823983,\n",
       "         0.78704621]])"
      ]
     },
     "execution_count": 114,
     "metadata": {},
     "output_type": "execute_result"
    }
   ],
   "source": [
    "x = np.mat(arr)\n",
    "x"
   ]
  },
  {
   "cell_type": "code",
   "execution_count": 121,
   "metadata": {
    "collapsed": false
   },
   "outputs": [
    {
     "data": {
      "text/plain": [
       "array([[ 1,  2,  3],\n",
       "       [10, 11, 12],\n",
       "       [ 4,  5,  6]])"
      ]
     },
     "execution_count": 121,
     "metadata": {},
     "output_type": "execute_result"
    }
   ],
   "source": [
    "list_of_list=[[1,2,3],[10,11,12],[4,5,6]]\n",
    "x= np.array(list_of_list) #here all numbers\n",
    "x"
   ]
  },
  {
   "cell_type": "code",
   "execution_count": 122,
   "metadata": {
    "collapsed": false
   },
   "outputs": [
    {
     "data": {
      "text/plain": [
       "2"
      ]
     },
     "execution_count": 122,
     "metadata": {},
     "output_type": "execute_result"
    }
   ],
   "source": [
    "x[0,1]"
   ]
  },
  {
   "cell_type": "code",
   "execution_count": 123,
   "metadata": {
    "collapsed": false
   },
   "outputs": [
    {
     "data": {
      "text/plain": [
       "array([ 2, 11,  5])"
      ]
     },
     "execution_count": 123,
     "metadata": {},
     "output_type": "execute_result"
    }
   ],
   "source": [
    "x[:,1]"
   ]
  },
  {
   "cell_type": "code",
   "execution_count": 126,
   "metadata": {
    "collapsed": false
   },
   "outputs": [
    {
     "data": {
      "text/plain": [
       "array([5, 6])"
      ]
     },
     "execution_count": 126,
     "metadata": {},
     "output_type": "execute_result"
    }
   ],
   "source": [
    "x[2,1:3]"
   ]
  },
  {
   "cell_type": "markdown",
   "metadata": {},
   "source": [
    "# Pandas"
   ]
  },
  {
   "cell_type": "code",
   "execution_count": 127,
   "metadata": {
    "collapsed": true
   },
   "outputs": [],
   "source": [
    "#pip install pandas=0.23\n",
    "import pandas as pd"
   ]
  },
  {
   "cell_type": "code",
   "execution_count": 128,
   "metadata": {
    "collapsed": false,
    "scrolled": true
   },
   "outputs": [
    {
     "name": "stdout",
     "output_type": "stream",
     "text": [
      "[1, 2, 3, 4]\n",
      "0    1\n",
      "1    2\n",
      "2    3\n",
      "3    4\n",
      "dtype: int64\n",
      "a    1\n",
      "b    2\n",
      "c    3\n",
      "d    4\n",
      "dtype: int64\n"
     ]
    }
   ],
   "source": [
    "#Creating Series using list, array, dictionary\n",
    "\n",
    "l=[1,2,3,4]\n",
    "print l\n",
    "print pd.Series(l)\n",
    "print pd.Series(l,index=['a','b','c','d']) #custom index/ labels"
   ]
  },
  {
   "cell_type": "code",
   "execution_count": 129,
   "metadata": {
    "collapsed": false
   },
   "outputs": [
    {
     "data": {
      "text/plain": [
       "0    2\n",
       "1    3\n",
       "2    4\n",
       "3    5\n",
       "dtype: int64"
      ]
     },
     "execution_count": 129,
     "metadata": {},
     "output_type": "execute_result"
    }
   ],
   "source": [
    "pd.Series(np.array([2,3,4,5]))"
   ]
  },
  {
   "cell_type": "code",
   "execution_count": 130,
   "metadata": {
    "collapsed": false
   },
   "outputs": [
    {
     "data": {
      "text/plain": [
       "a    1\n",
       "b    2\n",
       "dtype: int64"
      ]
     },
     "execution_count": 130,
     "metadata": {},
     "output_type": "execute_result"
    }
   ],
   "source": [
    "pd.Series(dict({'a':1,'b':2}))"
   ]
  },
  {
   "cell_type": "code",
   "execution_count": 131,
   "metadata": {
    "collapsed": false
   },
   "outputs": [
    {
     "data": {
      "text/html": [
       "<div>\n",
       "<style scoped>\n",
       "    .dataframe tbody tr th:only-of-type {\n",
       "        vertical-align: middle;\n",
       "    }\n",
       "\n",
       "    .dataframe tbody tr th {\n",
       "        vertical-align: top;\n",
       "    }\n",
       "\n",
       "    .dataframe thead th {\n",
       "        text-align: right;\n",
       "    }\n",
       "</style>\n",
       "<table border=\"1\" class=\"dataframe\">\n",
       "  <thead>\n",
       "    <tr style=\"text-align: right;\">\n",
       "      <th></th>\n",
       "      <th>score1</th>\n",
       "      <th>score2</th>\n",
       "      <th>score3</th>\n",
       "      <th>score4</th>\n",
       "      <th>score5</th>\n",
       "    </tr>\n",
       "  </thead>\n",
       "  <tbody>\n",
       "    <tr>\n",
       "      <th>0</th>\n",
       "      <td>0.482080</td>\n",
       "      <td>0.202607</td>\n",
       "      <td>0.579824</td>\n",
       "      <td>0.586028</td>\n",
       "      <td>0.811874</td>\n",
       "    </tr>\n",
       "    <tr>\n",
       "      <th>1</th>\n",
       "      <td>0.087684</td>\n",
       "      <td>0.782998</td>\n",
       "      <td>0.185257</td>\n",
       "      <td>0.988741</td>\n",
       "      <td>0.146553</td>\n",
       "    </tr>\n",
       "    <tr>\n",
       "      <th>2</th>\n",
       "      <td>0.967709</td>\n",
       "      <td>0.961918</td>\n",
       "      <td>0.754011</td>\n",
       "      <td>0.562501</td>\n",
       "      <td>0.220026</td>\n",
       "    </tr>\n",
       "    <tr>\n",
       "      <th>3</th>\n",
       "      <td>0.780514</td>\n",
       "      <td>0.780570</td>\n",
       "      <td>0.718742</td>\n",
       "      <td>0.040889</td>\n",
       "      <td>0.425112</td>\n",
       "    </tr>\n",
       "    <tr>\n",
       "      <th>4</th>\n",
       "      <td>0.851298</td>\n",
       "      <td>0.623798</td>\n",
       "      <td>0.278158</td>\n",
       "      <td>0.731203</td>\n",
       "      <td>0.276151</td>\n",
       "    </tr>\n",
       "    <tr>\n",
       "      <th>5</th>\n",
       "      <td>0.913365</td>\n",
       "      <td>0.172038</td>\n",
       "      <td>0.179517</td>\n",
       "      <td>0.189940</td>\n",
       "      <td>0.243870</td>\n",
       "    </tr>\n",
       "    <tr>\n",
       "      <th>6</th>\n",
       "      <td>0.661681</td>\n",
       "      <td>0.893055</td>\n",
       "      <td>0.411060</td>\n",
       "      <td>0.594151</td>\n",
       "      <td>0.942172</td>\n",
       "    </tr>\n",
       "    <tr>\n",
       "      <th>7</th>\n",
       "      <td>0.131721</td>\n",
       "      <td>0.900371</td>\n",
       "      <td>0.711727</td>\n",
       "      <td>0.393277</td>\n",
       "      <td>0.654741</td>\n",
       "    </tr>\n",
       "    <tr>\n",
       "      <th>8</th>\n",
       "      <td>0.689088</td>\n",
       "      <td>0.035732</td>\n",
       "      <td>0.601966</td>\n",
       "      <td>0.489583</td>\n",
       "      <td>0.131890</td>\n",
       "    </tr>\n",
       "    <tr>\n",
       "      <th>9</th>\n",
       "      <td>0.168231</td>\n",
       "      <td>0.691996</td>\n",
       "      <td>0.506512</td>\n",
       "      <td>0.645698</td>\n",
       "      <td>0.893901</td>\n",
       "    </tr>\n",
       "  </tbody>\n",
       "</table>\n",
       "</div>"
      ],
      "text/plain": [
       "     score1    score2    score3    score4    score5\n",
       "0  0.482080  0.202607  0.579824  0.586028  0.811874\n",
       "1  0.087684  0.782998  0.185257  0.988741  0.146553\n",
       "2  0.967709  0.961918  0.754011  0.562501  0.220026\n",
       "3  0.780514  0.780570  0.718742  0.040889  0.425112\n",
       "4  0.851298  0.623798  0.278158  0.731203  0.276151\n",
       "5  0.913365  0.172038  0.179517  0.189940  0.243870\n",
       "6  0.661681  0.893055  0.411060  0.594151  0.942172\n",
       "7  0.131721  0.900371  0.711727  0.393277  0.654741\n",
       "8  0.689088  0.035732  0.601966  0.489583  0.131890\n",
       "9  0.168231  0.691996  0.506512  0.645698  0.893901"
      ]
     },
     "execution_count": 131,
     "metadata": {},
     "output_type": "execute_result"
    }
   ],
   "source": [
    "df=pd.DataFrame(np.random.rand(10,5),columns='score1 score2 score3 score4 score5'.split())\n",
    "df"
   ]
  },
  {
   "cell_type": "markdown",
   "metadata": {},
   "source": [
    "Operation on Dataframe"
   ]
  },
  {
   "cell_type": "code",
   "execution_count": 136,
   "metadata": {
    "collapsed": false
   },
   "outputs": [
    {
     "data": {
      "text/plain": [
       "array([0.48208018, 0.08768418, 0.96770894, 0.78051369, 0.8512977 ,\n",
       "       0.91336498, 0.66168138, 0.13172127, 0.68908754, 0.16823088])"
      ]
     },
     "execution_count": 136,
     "metadata": {},
     "output_type": "execute_result"
    }
   ],
   "source": [
    "df['score1'].values"
   ]
  },
  {
   "cell_type": "code",
   "execution_count": 65,
   "metadata": {
    "collapsed": false
   },
   "outputs": [
    {
     "data": {
      "text/plain": [
       "0.07768592334052571"
      ]
     },
     "execution_count": 65,
     "metadata": {},
     "output_type": "execute_result"
    }
   ],
   "source": [
    "#access df\n",
    "df.score1.values[-1] #or df['score1']"
   ]
  },
  {
   "cell_type": "code",
   "execution_count": 138,
   "metadata": {
    "collapsed": false
   },
   "outputs": [
    {
     "data": {
      "text/html": [
       "<div>\n",
       "<style scoped>\n",
       "    .dataframe tbody tr th:only-of-type {\n",
       "        vertical-align: middle;\n",
       "    }\n",
       "\n",
       "    .dataframe tbody tr th {\n",
       "        vertical-align: top;\n",
       "    }\n",
       "\n",
       "    .dataframe thead th {\n",
       "        text-align: right;\n",
       "    }\n",
       "</style>\n",
       "<table border=\"1\" class=\"dataframe\">\n",
       "  <thead>\n",
       "    <tr style=\"text-align: right;\">\n",
       "      <th></th>\n",
       "      <th>score1</th>\n",
       "      <th>score2</th>\n",
       "      <th>score3</th>\n",
       "      <th>score4</th>\n",
       "      <th>score5</th>\n",
       "    </tr>\n",
       "  </thead>\n",
       "  <tbody>\n",
       "    <tr>\n",
       "      <th>0</th>\n",
       "      <td>0.482080</td>\n",
       "      <td>0.202607</td>\n",
       "      <td>0.579824</td>\n",
       "      <td>0.586028</td>\n",
       "      <td>0.811874</td>\n",
       "    </tr>\n",
       "    <tr>\n",
       "      <th>1</th>\n",
       "      <td>0.087684</td>\n",
       "      <td>0.782998</td>\n",
       "      <td>0.185257</td>\n",
       "      <td>0.988741</td>\n",
       "      <td>0.146553</td>\n",
       "    </tr>\n",
       "  </tbody>\n",
       "</table>\n",
       "</div>"
      ],
      "text/plain": [
       "     score1    score2    score3    score4    score5\n",
       "0  0.482080  0.202607  0.579824  0.586028  0.811874\n",
       "1  0.087684  0.782998  0.185257  0.988741  0.146553"
      ]
     },
     "execution_count": 138,
     "metadata": {},
     "output_type": "execute_result"
    }
   ],
   "source": [
    "df.head(2)"
   ]
  },
  {
   "cell_type": "code",
   "execution_count": 140,
   "metadata": {
    "collapsed": false
   },
   "outputs": [
    {
     "data": {
      "text/html": [
       "<div>\n",
       "<style scoped>\n",
       "    .dataframe tbody tr th:only-of-type {\n",
       "        vertical-align: middle;\n",
       "    }\n",
       "\n",
       "    .dataframe tbody tr th {\n",
       "        vertical-align: top;\n",
       "    }\n",
       "\n",
       "    .dataframe thead th {\n",
       "        text-align: right;\n",
       "    }\n",
       "</style>\n",
       "<table border=\"1\" class=\"dataframe\">\n",
       "  <thead>\n",
       "    <tr style=\"text-align: right;\">\n",
       "      <th></th>\n",
       "      <th>9</th>\n",
       "    </tr>\n",
       "  </thead>\n",
       "  <tbody>\n",
       "    <tr>\n",
       "      <th>score1</th>\n",
       "      <td>0.168231</td>\n",
       "    </tr>\n",
       "    <tr>\n",
       "      <th>score2</th>\n",
       "      <td>0.691996</td>\n",
       "    </tr>\n",
       "    <tr>\n",
       "      <th>score3</th>\n",
       "      <td>0.506512</td>\n",
       "    </tr>\n",
       "    <tr>\n",
       "      <th>score4</th>\n",
       "      <td>0.645698</td>\n",
       "    </tr>\n",
       "    <tr>\n",
       "      <th>score5</th>\n",
       "      <td>0.893901</td>\n",
       "    </tr>\n",
       "  </tbody>\n",
       "</table>\n",
       "</div>"
      ],
      "text/plain": [
       "               9\n",
       "score1  0.168231\n",
       "score2  0.691996\n",
       "score3  0.506512\n",
       "score4  0.645698\n",
       "score5  0.893901"
      ]
     },
     "execution_count": 140,
     "metadata": {},
     "output_type": "execute_result"
    }
   ],
   "source": [
    "df.tail(1).T"
   ]
  },
  {
   "cell_type": "code",
   "execution_count": 142,
   "metadata": {
    "collapsed": false
   },
   "outputs": [
    {
     "data": {
      "text/plain": [
       "(10, 5)"
      ]
     },
     "execution_count": 142,
     "metadata": {},
     "output_type": "execute_result"
    }
   ],
   "source": [
    "df.shape"
   ]
  },
  {
   "cell_type": "code",
   "execution_count": 151,
   "metadata": {
    "collapsed": false
   },
   "outputs": [
    {
     "data": {
      "text/html": [
       "<div>\n",
       "<style scoped>\n",
       "    .dataframe tbody tr th:only-of-type {\n",
       "        vertical-align: middle;\n",
       "    }\n",
       "\n",
       "    .dataframe tbody tr th {\n",
       "        vertical-align: top;\n",
       "    }\n",
       "\n",
       "    .dataframe thead th {\n",
       "        text-align: right;\n",
       "    }\n",
       "</style>\n",
       "<table border=\"1\" class=\"dataframe\">\n",
       "  <thead>\n",
       "    <tr style=\"text-align: right;\">\n",
       "      <th></th>\n",
       "      <th>score1</th>\n",
       "      <th>score2</th>\n",
       "    </tr>\n",
       "  </thead>\n",
       "  <tbody>\n",
       "    <tr>\n",
       "      <th>0</th>\n",
       "      <td>0.482080</td>\n",
       "      <td>0.202607</td>\n",
       "    </tr>\n",
       "    <tr>\n",
       "      <th>1</th>\n",
       "      <td>0.087684</td>\n",
       "      <td>0.782998</td>\n",
       "    </tr>\n",
       "    <tr>\n",
       "      <th>2</th>\n",
       "      <td>0.967709</td>\n",
       "      <td>0.961918</td>\n",
       "    </tr>\n",
       "    <tr>\n",
       "      <th>3</th>\n",
       "      <td>0.780514</td>\n",
       "      <td>0.780570</td>\n",
       "    </tr>\n",
       "    <tr>\n",
       "      <th>4</th>\n",
       "      <td>0.851298</td>\n",
       "      <td>0.623798</td>\n",
       "    </tr>\n",
       "    <tr>\n",
       "      <th>5</th>\n",
       "      <td>0.913365</td>\n",
       "      <td>0.172038</td>\n",
       "    </tr>\n",
       "    <tr>\n",
       "      <th>6</th>\n",
       "      <td>0.661681</td>\n",
       "      <td>0.893055</td>\n",
       "    </tr>\n",
       "    <tr>\n",
       "      <th>7</th>\n",
       "      <td>0.131721</td>\n",
       "      <td>0.900371</td>\n",
       "    </tr>\n",
       "    <tr>\n",
       "      <th>8</th>\n",
       "      <td>0.689088</td>\n",
       "      <td>0.035732</td>\n",
       "    </tr>\n",
       "    <tr>\n",
       "      <th>9</th>\n",
       "      <td>0.168231</td>\n",
       "      <td>0.691996</td>\n",
       "    </tr>\n",
       "  </tbody>\n",
       "</table>\n",
       "</div>"
      ],
      "text/plain": [
       "     score1    score2\n",
       "0  0.482080  0.202607\n",
       "1  0.087684  0.782998\n",
       "2  0.967709  0.961918\n",
       "3  0.780514  0.780570\n",
       "4  0.851298  0.623798\n",
       "5  0.913365  0.172038\n",
       "6  0.661681  0.893055\n",
       "7  0.131721  0.900371\n",
       "8  0.689088  0.035732\n",
       "9  0.168231  0.691996"
      ]
     },
     "execution_count": 151,
     "metadata": {},
     "output_type": "execute_result"
    }
   ],
   "source": [
    "df[df.columns[:2]]"
   ]
  },
  {
   "cell_type": "code",
   "execution_count": 152,
   "metadata": {
    "collapsed": false
   },
   "outputs": [
    {
     "name": "stderr",
     "output_type": "stream",
     "text": [
      "/Users/mkumar/anaconda2/lib/python2.7/site-packages/pandas/core/computation/check.py:17: UserWarning: The installed version of numexpr 2.4.4 is not supported in pandas and will be not be used\n",
      "The minimum supported version is 2.4.6\n",
      "\n",
      "  ver=ver, min_ver=_MIN_NUMEXPR_VERSION), UserWarning)\n"
     ]
    },
    {
     "data": {
      "text/html": [
       "<div>\n",
       "<style scoped>\n",
       "    .dataframe tbody tr th:only-of-type {\n",
       "        vertical-align: middle;\n",
       "    }\n",
       "\n",
       "    .dataframe tbody tr th {\n",
       "        vertical-align: top;\n",
       "    }\n",
       "\n",
       "    .dataframe thead th {\n",
       "        text-align: right;\n",
       "    }\n",
       "</style>\n",
       "<table border=\"1\" class=\"dataframe\">\n",
       "  <thead>\n",
       "    <tr style=\"text-align: right;\">\n",
       "      <th></th>\n",
       "      <th>score1</th>\n",
       "      <th>score2</th>\n",
       "      <th>score3</th>\n",
       "      <th>score4</th>\n",
       "      <th>score5</th>\n",
       "      <th>score6</th>\n",
       "    </tr>\n",
       "  </thead>\n",
       "  <tbody>\n",
       "    <tr>\n",
       "      <th>0</th>\n",
       "      <td>0.482080</td>\n",
       "      <td>0.202607</td>\n",
       "      <td>0.579824</td>\n",
       "      <td>0.586028</td>\n",
       "      <td>0.811874</td>\n",
       "      <td>0.684687</td>\n",
       "    </tr>\n",
       "    <tr>\n",
       "      <th>1</th>\n",
       "      <td>0.087684</td>\n",
       "      <td>0.782998</td>\n",
       "      <td>0.185257</td>\n",
       "      <td>0.988741</td>\n",
       "      <td>0.146553</td>\n",
       "      <td>0.870682</td>\n",
       "    </tr>\n",
       "    <tr>\n",
       "      <th>2</th>\n",
       "      <td>0.967709</td>\n",
       "      <td>0.961918</td>\n",
       "      <td>0.754011</td>\n",
       "      <td>0.562501</td>\n",
       "      <td>0.220026</td>\n",
       "      <td>1.929627</td>\n",
       "    </tr>\n",
       "    <tr>\n",
       "      <th>3</th>\n",
       "      <td>0.780514</td>\n",
       "      <td>0.780570</td>\n",
       "      <td>0.718742</td>\n",
       "      <td>0.040889</td>\n",
       "      <td>0.425112</td>\n",
       "      <td>1.561084</td>\n",
       "    </tr>\n",
       "    <tr>\n",
       "      <th>4</th>\n",
       "      <td>0.851298</td>\n",
       "      <td>0.623798</td>\n",
       "      <td>0.278158</td>\n",
       "      <td>0.731203</td>\n",
       "      <td>0.276151</td>\n",
       "      <td>1.475096</td>\n",
       "    </tr>\n",
       "    <tr>\n",
       "      <th>5</th>\n",
       "      <td>0.913365</td>\n",
       "      <td>0.172038</td>\n",
       "      <td>0.179517</td>\n",
       "      <td>0.189940</td>\n",
       "      <td>0.243870</td>\n",
       "      <td>1.085403</td>\n",
       "    </tr>\n",
       "    <tr>\n",
       "      <th>6</th>\n",
       "      <td>0.661681</td>\n",
       "      <td>0.893055</td>\n",
       "      <td>0.411060</td>\n",
       "      <td>0.594151</td>\n",
       "      <td>0.942172</td>\n",
       "      <td>1.554737</td>\n",
       "    </tr>\n",
       "    <tr>\n",
       "      <th>7</th>\n",
       "      <td>0.131721</td>\n",
       "      <td>0.900371</td>\n",
       "      <td>0.711727</td>\n",
       "      <td>0.393277</td>\n",
       "      <td>0.654741</td>\n",
       "      <td>1.032092</td>\n",
       "    </tr>\n",
       "    <tr>\n",
       "      <th>8</th>\n",
       "      <td>0.689088</td>\n",
       "      <td>0.035732</td>\n",
       "      <td>0.601966</td>\n",
       "      <td>0.489583</td>\n",
       "      <td>0.131890</td>\n",
       "      <td>0.724820</td>\n",
       "    </tr>\n",
       "    <tr>\n",
       "      <th>9</th>\n",
       "      <td>0.168231</td>\n",
       "      <td>0.691996</td>\n",
       "      <td>0.506512</td>\n",
       "      <td>0.645698</td>\n",
       "      <td>0.893901</td>\n",
       "      <td>0.860227</td>\n",
       "    </tr>\n",
       "  </tbody>\n",
       "</table>\n",
       "</div>"
      ],
      "text/plain": [
       "     score1    score2    score3    score4    score5    score6\n",
       "0  0.482080  0.202607  0.579824  0.586028  0.811874  0.684687\n",
       "1  0.087684  0.782998  0.185257  0.988741  0.146553  0.870682\n",
       "2  0.967709  0.961918  0.754011  0.562501  0.220026  1.929627\n",
       "3  0.780514  0.780570  0.718742  0.040889  0.425112  1.561084\n",
       "4  0.851298  0.623798  0.278158  0.731203  0.276151  1.475096\n",
       "5  0.913365  0.172038  0.179517  0.189940  0.243870  1.085403\n",
       "6  0.661681  0.893055  0.411060  0.594151  0.942172  1.554737\n",
       "7  0.131721  0.900371  0.711727  0.393277  0.654741  1.032092\n",
       "8  0.689088  0.035732  0.601966  0.489583  0.131890  0.724820\n",
       "9  0.168231  0.691996  0.506512  0.645698  0.893901  0.860227"
      ]
     },
     "execution_count": 152,
     "metadata": {},
     "output_type": "execute_result"
    }
   ],
   "source": [
    "#operations on dataframe\n",
    "df['score6']=df['score1']+df['score2']\n",
    "df"
   ]
  },
  {
   "cell_type": "code",
   "execution_count": 155,
   "metadata": {
    "collapsed": false
   },
   "outputs": [
    {
     "data": {
      "text/html": [
       "<div>\n",
       "<style scoped>\n",
       "    .dataframe tbody tr th:only-of-type {\n",
       "        vertical-align: middle;\n",
       "    }\n",
       "\n",
       "    .dataframe tbody tr th {\n",
       "        vertical-align: top;\n",
       "    }\n",
       "\n",
       "    .dataframe thead th {\n",
       "        text-align: right;\n",
       "    }\n",
       "</style>\n",
       "<table border=\"1\" class=\"dataframe\">\n",
       "  <thead>\n",
       "    <tr style=\"text-align: right;\">\n",
       "      <th></th>\n",
       "      <th>score1</th>\n",
       "      <th>score2</th>\n",
       "      <th>score3</th>\n",
       "      <th>score4</th>\n",
       "      <th>score5</th>\n",
       "    </tr>\n",
       "  </thead>\n",
       "  <tbody>\n",
       "    <tr>\n",
       "      <th>0</th>\n",
       "      <td>0.482080</td>\n",
       "      <td>0.202607</td>\n",
       "      <td>0.579824</td>\n",
       "      <td>0.586028</td>\n",
       "      <td>0.811874</td>\n",
       "    </tr>\n",
       "    <tr>\n",
       "      <th>1</th>\n",
       "      <td>0.087684</td>\n",
       "      <td>0.782998</td>\n",
       "      <td>0.185257</td>\n",
       "      <td>0.988741</td>\n",
       "      <td>0.146553</td>\n",
       "    </tr>\n",
       "    <tr>\n",
       "      <th>2</th>\n",
       "      <td>0.967709</td>\n",
       "      <td>0.961918</td>\n",
       "      <td>0.754011</td>\n",
       "      <td>0.562501</td>\n",
       "      <td>0.220026</td>\n",
       "    </tr>\n",
       "    <tr>\n",
       "      <th>3</th>\n",
       "      <td>0.780514</td>\n",
       "      <td>0.780570</td>\n",
       "      <td>0.718742</td>\n",
       "      <td>0.040889</td>\n",
       "      <td>0.425112</td>\n",
       "    </tr>\n",
       "    <tr>\n",
       "      <th>4</th>\n",
       "      <td>0.851298</td>\n",
       "      <td>0.623798</td>\n",
       "      <td>0.278158</td>\n",
       "      <td>0.731203</td>\n",
       "      <td>0.276151</td>\n",
       "    </tr>\n",
       "    <tr>\n",
       "      <th>5</th>\n",
       "      <td>0.913365</td>\n",
       "      <td>0.172038</td>\n",
       "      <td>0.179517</td>\n",
       "      <td>0.189940</td>\n",
       "      <td>0.243870</td>\n",
       "    </tr>\n",
       "    <tr>\n",
       "      <th>6</th>\n",
       "      <td>0.661681</td>\n",
       "      <td>0.893055</td>\n",
       "      <td>0.411060</td>\n",
       "      <td>0.594151</td>\n",
       "      <td>0.942172</td>\n",
       "    </tr>\n",
       "    <tr>\n",
       "      <th>7</th>\n",
       "      <td>0.131721</td>\n",
       "      <td>0.900371</td>\n",
       "      <td>0.711727</td>\n",
       "      <td>0.393277</td>\n",
       "      <td>0.654741</td>\n",
       "    </tr>\n",
       "    <tr>\n",
       "      <th>8</th>\n",
       "      <td>0.689088</td>\n",
       "      <td>0.035732</td>\n",
       "      <td>0.601966</td>\n",
       "      <td>0.489583</td>\n",
       "      <td>0.131890</td>\n",
       "    </tr>\n",
       "    <tr>\n",
       "      <th>9</th>\n",
       "      <td>0.168231</td>\n",
       "      <td>0.691996</td>\n",
       "      <td>0.506512</td>\n",
       "      <td>0.645698</td>\n",
       "      <td>0.893901</td>\n",
       "    </tr>\n",
       "  </tbody>\n",
       "</table>\n",
       "</div>"
      ],
      "text/plain": [
       "     score1    score2    score3    score4    score5\n",
       "0  0.482080  0.202607  0.579824  0.586028  0.811874\n",
       "1  0.087684  0.782998  0.185257  0.988741  0.146553\n",
       "2  0.967709  0.961918  0.754011  0.562501  0.220026\n",
       "3  0.780514  0.780570  0.718742  0.040889  0.425112\n",
       "4  0.851298  0.623798  0.278158  0.731203  0.276151\n",
       "5  0.913365  0.172038  0.179517  0.189940  0.243870\n",
       "6  0.661681  0.893055  0.411060  0.594151  0.942172\n",
       "7  0.131721  0.900371  0.711727  0.393277  0.654741\n",
       "8  0.689088  0.035732  0.601966  0.489583  0.131890\n",
       "9  0.168231  0.691996  0.506512  0.645698  0.893901"
      ]
     },
     "execution_count": 155,
     "metadata": {},
     "output_type": "execute_result"
    }
   ],
   "source": [
    "df.drop('score6',axis=1,inplace=True)\n",
    "#df=df.drop('score6',axis=1)\n",
    "\n",
    "df"
   ]
  },
  {
   "cell_type": "code",
   "execution_count": 156,
   "metadata": {
    "collapsed": true
   },
   "outputs": [],
   "source": [
    "def transform_fn(row):\n",
    "    return row*2"
   ]
  },
  {
   "cell_type": "code",
   "execution_count": 157,
   "metadata": {
    "collapsed": false
   },
   "outputs": [
    {
     "data": {
      "text/html": [
       "<div>\n",
       "<style scoped>\n",
       "    .dataframe tbody tr th:only-of-type {\n",
       "        vertical-align: middle;\n",
       "    }\n",
       "\n",
       "    .dataframe tbody tr th {\n",
       "        vertical-align: top;\n",
       "    }\n",
       "\n",
       "    .dataframe thead th {\n",
       "        text-align: right;\n",
       "    }\n",
       "</style>\n",
       "<table border=\"1\" class=\"dataframe\">\n",
       "  <thead>\n",
       "    <tr style=\"text-align: right;\">\n",
       "      <th></th>\n",
       "      <th>score1</th>\n",
       "      <th>score2</th>\n",
       "      <th>score3</th>\n",
       "      <th>score4</th>\n",
       "      <th>score5</th>\n",
       "      <th>score7</th>\n",
       "    </tr>\n",
       "  </thead>\n",
       "  <tbody>\n",
       "    <tr>\n",
       "      <th>0</th>\n",
       "      <td>0.482080</td>\n",
       "      <td>0.202607</td>\n",
       "      <td>0.579824</td>\n",
       "      <td>0.586028</td>\n",
       "      <td>0.811874</td>\n",
       "      <td>2.811874</td>\n",
       "    </tr>\n",
       "    <tr>\n",
       "      <th>1</th>\n",
       "      <td>0.087684</td>\n",
       "      <td>0.782998</td>\n",
       "      <td>0.185257</td>\n",
       "      <td>0.988741</td>\n",
       "      <td>0.146553</td>\n",
       "      <td>2.146553</td>\n",
       "    </tr>\n",
       "    <tr>\n",
       "      <th>2</th>\n",
       "      <td>0.967709</td>\n",
       "      <td>0.961918</td>\n",
       "      <td>0.754011</td>\n",
       "      <td>0.562501</td>\n",
       "      <td>0.220026</td>\n",
       "      <td>2.220026</td>\n",
       "    </tr>\n",
       "    <tr>\n",
       "      <th>3</th>\n",
       "      <td>0.780514</td>\n",
       "      <td>0.780570</td>\n",
       "      <td>0.718742</td>\n",
       "      <td>0.040889</td>\n",
       "      <td>0.425112</td>\n",
       "      <td>2.425112</td>\n",
       "    </tr>\n",
       "    <tr>\n",
       "      <th>4</th>\n",
       "      <td>0.851298</td>\n",
       "      <td>0.623798</td>\n",
       "      <td>0.278158</td>\n",
       "      <td>0.731203</td>\n",
       "      <td>0.276151</td>\n",
       "      <td>2.276151</td>\n",
       "    </tr>\n",
       "    <tr>\n",
       "      <th>5</th>\n",
       "      <td>0.913365</td>\n",
       "      <td>0.172038</td>\n",
       "      <td>0.179517</td>\n",
       "      <td>0.189940</td>\n",
       "      <td>0.243870</td>\n",
       "      <td>2.243870</td>\n",
       "    </tr>\n",
       "    <tr>\n",
       "      <th>6</th>\n",
       "      <td>0.661681</td>\n",
       "      <td>0.893055</td>\n",
       "      <td>0.411060</td>\n",
       "      <td>0.594151</td>\n",
       "      <td>0.942172</td>\n",
       "      <td>2.942172</td>\n",
       "    </tr>\n",
       "    <tr>\n",
       "      <th>7</th>\n",
       "      <td>0.131721</td>\n",
       "      <td>0.900371</td>\n",
       "      <td>0.711727</td>\n",
       "      <td>0.393277</td>\n",
       "      <td>0.654741</td>\n",
       "      <td>2.654741</td>\n",
       "    </tr>\n",
       "    <tr>\n",
       "      <th>8</th>\n",
       "      <td>0.689088</td>\n",
       "      <td>0.035732</td>\n",
       "      <td>0.601966</td>\n",
       "      <td>0.489583</td>\n",
       "      <td>0.131890</td>\n",
       "      <td>2.131890</td>\n",
       "    </tr>\n",
       "    <tr>\n",
       "      <th>9</th>\n",
       "      <td>0.168231</td>\n",
       "      <td>0.691996</td>\n",
       "      <td>0.506512</td>\n",
       "      <td>0.645698</td>\n",
       "      <td>0.893901</td>\n",
       "      <td>2.893901</td>\n",
       "    </tr>\n",
       "  </tbody>\n",
       "</table>\n",
       "</div>"
      ],
      "text/plain": [
       "     score1    score2    score3    score4    score5    score7\n",
       "0  0.482080  0.202607  0.579824  0.586028  0.811874  2.811874\n",
       "1  0.087684  0.782998  0.185257  0.988741  0.146553  2.146553\n",
       "2  0.967709  0.961918  0.754011  0.562501  0.220026  2.220026\n",
       "3  0.780514  0.780570  0.718742  0.040889  0.425112  2.425112\n",
       "4  0.851298  0.623798  0.278158  0.731203  0.276151  2.276151\n",
       "5  0.913365  0.172038  0.179517  0.189940  0.243870  2.243870\n",
       "6  0.661681  0.893055  0.411060  0.594151  0.942172  2.942172\n",
       "7  0.131721  0.900371  0.711727  0.393277  0.654741  2.654741\n",
       "8  0.689088  0.035732  0.601966  0.489583  0.131890  2.131890\n",
       "9  0.168231  0.691996  0.506512  0.645698  0.893901  2.893901"
      ]
     },
     "execution_count": 157,
     "metadata": {},
     "output_type": "execute_result"
    }
   ],
   "source": [
    "df['score7']=df.score5.apply(lambda x: x+2)\n",
    "df"
   ]
  },
  {
   "cell_type": "code",
   "execution_count": null,
   "metadata": {
    "collapsed": true
   },
   "outputs": [],
   "source": []
  },
  {
   "cell_type": "code",
   "execution_count": 158,
   "metadata": {
    "collapsed": false
   },
   "outputs": [
    {
     "data": {
      "text/html": [
       "<div>\n",
       "<style scoped>\n",
       "    .dataframe tbody tr th:only-of-type {\n",
       "        vertical-align: middle;\n",
       "    }\n",
       "\n",
       "    .dataframe tbody tr th {\n",
       "        vertical-align: top;\n",
       "    }\n",
       "\n",
       "    .dataframe thead th {\n",
       "        text-align: right;\n",
       "    }\n",
       "</style>\n",
       "<table border=\"1\" class=\"dataframe\">\n",
       "  <thead>\n",
       "    <tr style=\"text-align: right;\">\n",
       "      <th></th>\n",
       "      <th>score1</th>\n",
       "      <th>score2</th>\n",
       "      <th>score3</th>\n",
       "      <th>score4</th>\n",
       "      <th>score5</th>\n",
       "      <th>score7</th>\n",
       "      <th>score8</th>\n",
       "    </tr>\n",
       "  </thead>\n",
       "  <tbody>\n",
       "    <tr>\n",
       "      <th>0</th>\n",
       "      <td>0.482080</td>\n",
       "      <td>0.202607</td>\n",
       "      <td>0.579824</td>\n",
       "      <td>0.586028</td>\n",
       "      <td>0.811874</td>\n",
       "      <td>2.811874</td>\n",
       "      <td>1.623747</td>\n",
       "    </tr>\n",
       "    <tr>\n",
       "      <th>1</th>\n",
       "      <td>0.087684</td>\n",
       "      <td>0.782998</td>\n",
       "      <td>0.185257</td>\n",
       "      <td>0.988741</td>\n",
       "      <td>0.146553</td>\n",
       "      <td>2.146553</td>\n",
       "      <td>0.293107</td>\n",
       "    </tr>\n",
       "    <tr>\n",
       "      <th>2</th>\n",
       "      <td>0.967709</td>\n",
       "      <td>0.961918</td>\n",
       "      <td>0.754011</td>\n",
       "      <td>0.562501</td>\n",
       "      <td>0.220026</td>\n",
       "      <td>2.220026</td>\n",
       "      <td>0.440052</td>\n",
       "    </tr>\n",
       "    <tr>\n",
       "      <th>3</th>\n",
       "      <td>0.780514</td>\n",
       "      <td>0.780570</td>\n",
       "      <td>0.718742</td>\n",
       "      <td>0.040889</td>\n",
       "      <td>0.425112</td>\n",
       "      <td>2.425112</td>\n",
       "      <td>0.850224</td>\n",
       "    </tr>\n",
       "    <tr>\n",
       "      <th>4</th>\n",
       "      <td>0.851298</td>\n",
       "      <td>0.623798</td>\n",
       "      <td>0.278158</td>\n",
       "      <td>0.731203</td>\n",
       "      <td>0.276151</td>\n",
       "      <td>2.276151</td>\n",
       "      <td>0.552302</td>\n",
       "    </tr>\n",
       "    <tr>\n",
       "      <th>5</th>\n",
       "      <td>0.913365</td>\n",
       "      <td>0.172038</td>\n",
       "      <td>0.179517</td>\n",
       "      <td>0.189940</td>\n",
       "      <td>0.243870</td>\n",
       "      <td>2.243870</td>\n",
       "      <td>0.487740</td>\n",
       "    </tr>\n",
       "    <tr>\n",
       "      <th>6</th>\n",
       "      <td>0.661681</td>\n",
       "      <td>0.893055</td>\n",
       "      <td>0.411060</td>\n",
       "      <td>0.594151</td>\n",
       "      <td>0.942172</td>\n",
       "      <td>2.942172</td>\n",
       "      <td>1.884344</td>\n",
       "    </tr>\n",
       "    <tr>\n",
       "      <th>7</th>\n",
       "      <td>0.131721</td>\n",
       "      <td>0.900371</td>\n",
       "      <td>0.711727</td>\n",
       "      <td>0.393277</td>\n",
       "      <td>0.654741</td>\n",
       "      <td>2.654741</td>\n",
       "      <td>1.309482</td>\n",
       "    </tr>\n",
       "    <tr>\n",
       "      <th>8</th>\n",
       "      <td>0.689088</td>\n",
       "      <td>0.035732</td>\n",
       "      <td>0.601966</td>\n",
       "      <td>0.489583</td>\n",
       "      <td>0.131890</td>\n",
       "      <td>2.131890</td>\n",
       "      <td>0.263781</td>\n",
       "    </tr>\n",
       "    <tr>\n",
       "      <th>9</th>\n",
       "      <td>0.168231</td>\n",
       "      <td>0.691996</td>\n",
       "      <td>0.506512</td>\n",
       "      <td>0.645698</td>\n",
       "      <td>0.893901</td>\n",
       "      <td>2.893901</td>\n",
       "      <td>1.787802</td>\n",
       "    </tr>\n",
       "  </tbody>\n",
       "</table>\n",
       "</div>"
      ],
      "text/plain": [
       "     score1    score2    score3    score4    score5    score7    score8\n",
       "0  0.482080  0.202607  0.579824  0.586028  0.811874  2.811874  1.623747\n",
       "1  0.087684  0.782998  0.185257  0.988741  0.146553  2.146553  0.293107\n",
       "2  0.967709  0.961918  0.754011  0.562501  0.220026  2.220026  0.440052\n",
       "3  0.780514  0.780570  0.718742  0.040889  0.425112  2.425112  0.850224\n",
       "4  0.851298  0.623798  0.278158  0.731203  0.276151  2.276151  0.552302\n",
       "5  0.913365  0.172038  0.179517  0.189940  0.243870  2.243870  0.487740\n",
       "6  0.661681  0.893055  0.411060  0.594151  0.942172  2.942172  1.884344\n",
       "7  0.131721  0.900371  0.711727  0.393277  0.654741  2.654741  1.309482\n",
       "8  0.689088  0.035732  0.601966  0.489583  0.131890  2.131890  0.263781\n",
       "9  0.168231  0.691996  0.506512  0.645698  0.893901  2.893901  1.787802"
      ]
     },
     "execution_count": 158,
     "metadata": {},
     "output_type": "execute_result"
    }
   ],
   "source": [
    "#Apply some operation on particular column of series\n",
    "df['score8']=df.score5.apply(lambda x:transform_fn(x))\n",
    "df"
   ]
  },
  {
   "cell_type": "code",
   "execution_count": 160,
   "metadata": {
    "collapsed": false
   },
   "outputs": [
    {
     "data": {
      "text/html": [
       "<div>\n",
       "<style scoped>\n",
       "    .dataframe tbody tr th:only-of-type {\n",
       "        vertical-align: middle;\n",
       "    }\n",
       "\n",
       "    .dataframe tbody tr th {\n",
       "        vertical-align: top;\n",
       "    }\n",
       "\n",
       "    .dataframe thead th {\n",
       "        text-align: right;\n",
       "    }\n",
       "</style>\n",
       "<table border=\"1\" class=\"dataframe\">\n",
       "  <thead>\n",
       "    <tr style=\"text-align: right;\">\n",
       "      <th></th>\n",
       "      <th>score1</th>\n",
       "      <th>score2</th>\n",
       "      <th>score3</th>\n",
       "      <th>score4</th>\n",
       "      <th>score5</th>\n",
       "      <th>score7</th>\n",
       "      <th>score8</th>\n",
       "    </tr>\n",
       "  </thead>\n",
       "  <tbody>\n",
       "    <tr>\n",
       "      <th>0</th>\n",
       "      <td>0.482080</td>\n",
       "      <td>0.202607</td>\n",
       "      <td>0.579824</td>\n",
       "      <td>0.586028</td>\n",
       "      <td>1.0</td>\n",
       "      <td>2.811874</td>\n",
       "      <td>1.623747</td>\n",
       "    </tr>\n",
       "    <tr>\n",
       "      <th>1</th>\n",
       "      <td>0.087684</td>\n",
       "      <td>0.782998</td>\n",
       "      <td>0.185257</td>\n",
       "      <td>0.988741</td>\n",
       "      <td>0.0</td>\n",
       "      <td>2.146553</td>\n",
       "      <td>0.293107</td>\n",
       "    </tr>\n",
       "    <tr>\n",
       "      <th>2</th>\n",
       "      <td>0.967709</td>\n",
       "      <td>0.961918</td>\n",
       "      <td>0.754011</td>\n",
       "      <td>0.562501</td>\n",
       "      <td>0.0</td>\n",
       "      <td>2.220026</td>\n",
       "      <td>0.440052</td>\n",
       "    </tr>\n",
       "    <tr>\n",
       "      <th>3</th>\n",
       "      <td>0.780514</td>\n",
       "      <td>0.780570</td>\n",
       "      <td>0.718742</td>\n",
       "      <td>0.040889</td>\n",
       "      <td>0.0</td>\n",
       "      <td>2.425112</td>\n",
       "      <td>0.850224</td>\n",
       "    </tr>\n",
       "    <tr>\n",
       "      <th>4</th>\n",
       "      <td>0.851298</td>\n",
       "      <td>0.623798</td>\n",
       "      <td>0.278158</td>\n",
       "      <td>0.731203</td>\n",
       "      <td>0.0</td>\n",
       "      <td>2.276151</td>\n",
       "      <td>0.552302</td>\n",
       "    </tr>\n",
       "    <tr>\n",
       "      <th>5</th>\n",
       "      <td>0.913365</td>\n",
       "      <td>0.172038</td>\n",
       "      <td>0.179517</td>\n",
       "      <td>0.189940</td>\n",
       "      <td>0.0</td>\n",
       "      <td>2.243870</td>\n",
       "      <td>0.487740</td>\n",
       "    </tr>\n",
       "    <tr>\n",
       "      <th>6</th>\n",
       "      <td>0.661681</td>\n",
       "      <td>0.893055</td>\n",
       "      <td>0.411060</td>\n",
       "      <td>0.594151</td>\n",
       "      <td>1.0</td>\n",
       "      <td>2.942172</td>\n",
       "      <td>1.884344</td>\n",
       "    </tr>\n",
       "    <tr>\n",
       "      <th>7</th>\n",
       "      <td>0.131721</td>\n",
       "      <td>0.900371</td>\n",
       "      <td>0.711727</td>\n",
       "      <td>0.393277</td>\n",
       "      <td>1.0</td>\n",
       "      <td>2.654741</td>\n",
       "      <td>1.309482</td>\n",
       "    </tr>\n",
       "    <tr>\n",
       "      <th>8</th>\n",
       "      <td>0.689088</td>\n",
       "      <td>0.035732</td>\n",
       "      <td>0.601966</td>\n",
       "      <td>0.489583</td>\n",
       "      <td>0.0</td>\n",
       "      <td>2.131890</td>\n",
       "      <td>0.263781</td>\n",
       "    </tr>\n",
       "    <tr>\n",
       "      <th>9</th>\n",
       "      <td>0.168231</td>\n",
       "      <td>0.691996</td>\n",
       "      <td>0.506512</td>\n",
       "      <td>0.645698</td>\n",
       "      <td>1.0</td>\n",
       "      <td>2.893901</td>\n",
       "      <td>1.787802</td>\n",
       "    </tr>\n",
       "  </tbody>\n",
       "</table>\n",
       "</div>"
      ],
      "text/plain": [
       "     score1    score2    score3    score4  score5    score7    score8\n",
       "0  0.482080  0.202607  0.579824  0.586028     1.0  2.811874  1.623747\n",
       "1  0.087684  0.782998  0.185257  0.988741     0.0  2.146553  0.293107\n",
       "2  0.967709  0.961918  0.754011  0.562501     0.0  2.220026  0.440052\n",
       "3  0.780514  0.780570  0.718742  0.040889     0.0  2.425112  0.850224\n",
       "4  0.851298  0.623798  0.278158  0.731203     0.0  2.276151  0.552302\n",
       "5  0.913365  0.172038  0.179517  0.189940     0.0  2.243870  0.487740\n",
       "6  0.661681  0.893055  0.411060  0.594151     1.0  2.942172  1.884344\n",
       "7  0.131721  0.900371  0.711727  0.393277     1.0  2.654741  1.309482\n",
       "8  0.689088  0.035732  0.601966  0.489583     0.0  2.131890  0.263781\n",
       "9  0.168231  0.691996  0.506512  0.645698     1.0  2.893901  1.787802"
      ]
     },
     "execution_count": 160,
     "metadata": {},
     "output_type": "execute_result"
    }
   ],
   "source": [
    "df.score5=np.round(df.score5)\n",
    "df"
   ]
  },
  {
   "cell_type": "code",
   "execution_count": 166,
   "metadata": {
    "collapsed": false
   },
   "outputs": [
    {
     "data": {
      "text/html": [
       "<div>\n",
       "<style scoped>\n",
       "    .dataframe tbody tr th:only-of-type {\n",
       "        vertical-align: middle;\n",
       "    }\n",
       "\n",
       "    .dataframe tbody tr th {\n",
       "        vertical-align: top;\n",
       "    }\n",
       "\n",
       "    .dataframe thead th {\n",
       "        text-align: right;\n",
       "    }\n",
       "</style>\n",
       "<table border=\"1\" class=\"dataframe\">\n",
       "  <thead>\n",
       "    <tr style=\"text-align: right;\">\n",
       "      <th></th>\n",
       "      <th>score1</th>\n",
       "      <th>score2</th>\n",
       "      <th>score3</th>\n",
       "      <th>score4</th>\n",
       "      <th>score7</th>\n",
       "      <th>score8</th>\n",
       "    </tr>\n",
       "    <tr>\n",
       "      <th>score5</th>\n",
       "      <th></th>\n",
       "      <th></th>\n",
       "      <th></th>\n",
       "      <th></th>\n",
       "      <th></th>\n",
       "      <th></th>\n",
       "    </tr>\n",
       "  </thead>\n",
       "  <tbody>\n",
       "    <tr>\n",
       "      <th>0.0</th>\n",
       "      <td>4.289657</td>\n",
       "      <td>3.357054</td>\n",
       "      <td>2.717652</td>\n",
       "      <td>3.002857</td>\n",
       "      <td>13.443602</td>\n",
       "      <td>2.887205</td>\n",
       "    </tr>\n",
       "    <tr>\n",
       "      <th>1.0</th>\n",
       "      <td>1.443714</td>\n",
       "      <td>2.688030</td>\n",
       "      <td>2.209122</td>\n",
       "      <td>2.219154</td>\n",
       "      <td>11.302687</td>\n",
       "      <td>6.605375</td>\n",
       "    </tr>\n",
       "  </tbody>\n",
       "</table>\n",
       "</div>"
      ],
      "text/plain": [
       "          score1    score2    score3    score4     score7    score8\n",
       "score5                                                             \n",
       "0.0     4.289657  3.357054  2.717652  3.002857  13.443602  2.887205\n",
       "1.0     1.443714  2.688030  2.209122  2.219154  11.302687  6.605375"
      ]
     },
     "execution_count": 166,
     "metadata": {},
     "output_type": "execute_result"
    }
   ],
   "source": [
    "df.groupby('score5').sum()"
   ]
  },
  {
   "cell_type": "code",
   "execution_count": 162,
   "metadata": {
    "collapsed": false
   },
   "outputs": [
    {
     "data": {
      "text/html": [
       "<div>\n",
       "<style scoped>\n",
       "    .dataframe tbody tr th:only-of-type {\n",
       "        vertical-align: middle;\n",
       "    }\n",
       "\n",
       "    .dataframe tbody tr th {\n",
       "        vertical-align: top;\n",
       "    }\n",
       "\n",
       "    .dataframe thead th {\n",
       "        text-align: right;\n",
       "    }\n",
       "</style>\n",
       "<table border=\"1\" class=\"dataframe\">\n",
       "  <thead>\n",
       "    <tr style=\"text-align: right;\">\n",
       "      <th></th>\n",
       "      <th>score1</th>\n",
       "      <th>score2</th>\n",
       "    </tr>\n",
       "    <tr>\n",
       "      <th>score5</th>\n",
       "      <th></th>\n",
       "      <th></th>\n",
       "    </tr>\n",
       "  </thead>\n",
       "  <tbody>\n",
       "    <tr>\n",
       "      <th>0.0</th>\n",
       "      <td>0.087684</td>\n",
       "      <td>6</td>\n",
       "    </tr>\n",
       "    <tr>\n",
       "      <th>1.0</th>\n",
       "      <td>0.131721</td>\n",
       "      <td>4</td>\n",
       "    </tr>\n",
       "  </tbody>\n",
       "</table>\n",
       "</div>"
      ],
      "text/plain": [
       "          score1  score2\n",
       "score5                  \n",
       "0.0     0.087684       6\n",
       "1.0     0.131721       4"
      ]
     },
     "execution_count": 162,
     "metadata": {},
     "output_type": "execute_result"
    }
   ],
   "source": [
    "df.groupby('score5').agg({'score1':'min', 'score2':'count'})\n"
   ]
  },
  {
   "cell_type": "code",
   "execution_count": null,
   "metadata": {
    "collapsed": false
   },
   "outputs": [],
   "source": [
    "df.groupby(['score1','score2']).agg({'score3':'max'})"
   ]
  },
  {
   "cell_type": "code",
   "execution_count": null,
   "metadata": {
    "collapsed": false
   },
   "outputs": [],
   "source": [
    "df.groupby('score5').sum()"
   ]
  },
  {
   "cell_type": "code",
   "execution_count": 167,
   "metadata": {
    "collapsed": false
   },
   "outputs": [
    {
     "data": {
      "text/html": [
       "<div>\n",
       "<style scoped>\n",
       "    .dataframe tbody tr th:only-of-type {\n",
       "        vertical-align: middle;\n",
       "    }\n",
       "\n",
       "    .dataframe tbody tr th {\n",
       "        vertical-align: top;\n",
       "    }\n",
       "\n",
       "    .dataframe thead th {\n",
       "        text-align: right;\n",
       "    }\n",
       "</style>\n",
       "<table border=\"1\" class=\"dataframe\">\n",
       "  <thead>\n",
       "    <tr style=\"text-align: right;\">\n",
       "      <th></th>\n",
       "      <th>score1</th>\n",
       "      <th>score2</th>\n",
       "      <th>score3</th>\n",
       "      <th>score4</th>\n",
       "      <th>score5</th>\n",
       "      <th>score7</th>\n",
       "      <th>score8</th>\n",
       "      <th>name</th>\n",
       "    </tr>\n",
       "  </thead>\n",
       "  <tbody>\n",
       "    <tr>\n",
       "      <th>0</th>\n",
       "      <td>0.482080</td>\n",
       "      <td>0.202607</td>\n",
       "      <td>0.579824</td>\n",
       "      <td>0.586028</td>\n",
       "      <td>1.0</td>\n",
       "      <td>2.811874</td>\n",
       "      <td>1.623747</td>\n",
       "      <td>dummy</td>\n",
       "    </tr>\n",
       "    <tr>\n",
       "      <th>1</th>\n",
       "      <td>0.087684</td>\n",
       "      <td>0.782998</td>\n",
       "      <td>0.185257</td>\n",
       "      <td>0.988741</td>\n",
       "      <td>0.0</td>\n",
       "      <td>2.146553</td>\n",
       "      <td>0.293107</td>\n",
       "      <td>dummy</td>\n",
       "    </tr>\n",
       "    <tr>\n",
       "      <th>2</th>\n",
       "      <td>0.967709</td>\n",
       "      <td>0.961918</td>\n",
       "      <td>0.754011</td>\n",
       "      <td>0.562501</td>\n",
       "      <td>0.0</td>\n",
       "      <td>2.220026</td>\n",
       "      <td>0.440052</td>\n",
       "      <td>dummy</td>\n",
       "    </tr>\n",
       "    <tr>\n",
       "      <th>3</th>\n",
       "      <td>0.780514</td>\n",
       "      <td>0.780570</td>\n",
       "      <td>0.718742</td>\n",
       "      <td>0.040889</td>\n",
       "      <td>0.0</td>\n",
       "      <td>2.425112</td>\n",
       "      <td>0.850224</td>\n",
       "      <td>dummy</td>\n",
       "    </tr>\n",
       "    <tr>\n",
       "      <th>4</th>\n",
       "      <td>0.851298</td>\n",
       "      <td>0.623798</td>\n",
       "      <td>0.278158</td>\n",
       "      <td>0.731203</td>\n",
       "      <td>0.0</td>\n",
       "      <td>2.276151</td>\n",
       "      <td>0.552302</td>\n",
       "      <td>dummy</td>\n",
       "    </tr>\n",
       "    <tr>\n",
       "      <th>5</th>\n",
       "      <td>0.913365</td>\n",
       "      <td>0.172038</td>\n",
       "      <td>0.179517</td>\n",
       "      <td>0.189940</td>\n",
       "      <td>0.0</td>\n",
       "      <td>2.243870</td>\n",
       "      <td>0.487740</td>\n",
       "      <td>dummy</td>\n",
       "    </tr>\n",
       "    <tr>\n",
       "      <th>6</th>\n",
       "      <td>0.661681</td>\n",
       "      <td>0.893055</td>\n",
       "      <td>0.411060</td>\n",
       "      <td>0.594151</td>\n",
       "      <td>1.0</td>\n",
       "      <td>2.942172</td>\n",
       "      <td>1.884344</td>\n",
       "      <td>dummy</td>\n",
       "    </tr>\n",
       "    <tr>\n",
       "      <th>7</th>\n",
       "      <td>0.131721</td>\n",
       "      <td>0.900371</td>\n",
       "      <td>0.711727</td>\n",
       "      <td>0.393277</td>\n",
       "      <td>1.0</td>\n",
       "      <td>2.654741</td>\n",
       "      <td>1.309482</td>\n",
       "      <td>dummy</td>\n",
       "    </tr>\n",
       "    <tr>\n",
       "      <th>8</th>\n",
       "      <td>0.689088</td>\n",
       "      <td>0.035732</td>\n",
       "      <td>0.601966</td>\n",
       "      <td>0.489583</td>\n",
       "      <td>0.0</td>\n",
       "      <td>2.131890</td>\n",
       "      <td>0.263781</td>\n",
       "      <td>dummy</td>\n",
       "    </tr>\n",
       "    <tr>\n",
       "      <th>9</th>\n",
       "      <td>0.168231</td>\n",
       "      <td>0.691996</td>\n",
       "      <td>0.506512</td>\n",
       "      <td>0.645698</td>\n",
       "      <td>1.0</td>\n",
       "      <td>2.893901</td>\n",
       "      <td>1.787802</td>\n",
       "      <td>dummy</td>\n",
       "    </tr>\n",
       "  </tbody>\n",
       "</table>\n",
       "</div>"
      ],
      "text/plain": [
       "     score1    score2    score3    score4  score5    score7    score8   name\n",
       "0  0.482080  0.202607  0.579824  0.586028     1.0  2.811874  1.623747  dummy\n",
       "1  0.087684  0.782998  0.185257  0.988741     0.0  2.146553  0.293107  dummy\n",
       "2  0.967709  0.961918  0.754011  0.562501     0.0  2.220026  0.440052  dummy\n",
       "3  0.780514  0.780570  0.718742  0.040889     0.0  2.425112  0.850224  dummy\n",
       "4  0.851298  0.623798  0.278158  0.731203     0.0  2.276151  0.552302  dummy\n",
       "5  0.913365  0.172038  0.179517  0.189940     0.0  2.243870  0.487740  dummy\n",
       "6  0.661681  0.893055  0.411060  0.594151     1.0  2.942172  1.884344  dummy\n",
       "7  0.131721  0.900371  0.711727  0.393277     1.0  2.654741  1.309482  dummy\n",
       "8  0.689088  0.035732  0.601966  0.489583     0.0  2.131890  0.263781  dummy\n",
       "9  0.168231  0.691996  0.506512  0.645698     1.0  2.893901  1.787802  dummy"
      ]
     },
     "execution_count": 167,
     "metadata": {},
     "output_type": "execute_result"
    }
   ],
   "source": [
    "df['name']='dummy'\n",
    "df"
   ]
  },
  {
   "cell_type": "code",
   "execution_count": 168,
   "metadata": {
    "collapsed": false
   },
   "outputs": [
    {
     "name": "stdout",
     "output_type": "stream",
     "text": [
      "<class 'pandas.core.frame.DataFrame'>\n",
      "RangeIndex: 10 entries, 0 to 9\n",
      "Data columns (total 8 columns):\n",
      "score1    10 non-null float64\n",
      "score2    10 non-null float64\n",
      "score3    10 non-null float64\n",
      "score4    10 non-null float64\n",
      "score5    10 non-null float64\n",
      "score7    10 non-null float64\n",
      "score8    10 non-null float64\n",
      "name      10 non-null object\n",
      "dtypes: float64(7), object(1)\n",
      "memory usage: 712.0+ bytes\n"
     ]
    }
   ],
   "source": [
    "df.info()"
   ]
  },
  {
   "cell_type": "code",
   "execution_count": 169,
   "metadata": {
    "collapsed": false
   },
   "outputs": [
    {
     "data": {
      "text/html": [
       "<div>\n",
       "<style scoped>\n",
       "    .dataframe tbody tr th:only-of-type {\n",
       "        vertical-align: middle;\n",
       "    }\n",
       "\n",
       "    .dataframe tbody tr th {\n",
       "        vertical-align: top;\n",
       "    }\n",
       "\n",
       "    .dataframe thead th {\n",
       "        text-align: right;\n",
       "    }\n",
       "</style>\n",
       "<table border=\"1\" class=\"dataframe\">\n",
       "  <thead>\n",
       "    <tr style=\"text-align: right;\">\n",
       "      <th></th>\n",
       "      <th>score1</th>\n",
       "      <th>score2</th>\n",
       "      <th>score3</th>\n",
       "      <th>score4</th>\n",
       "      <th>score5</th>\n",
       "      <th>score7</th>\n",
       "      <th>score8</th>\n",
       "    </tr>\n",
       "  </thead>\n",
       "  <tbody>\n",
       "    <tr>\n",
       "      <th>count</th>\n",
       "      <td>10.000000</td>\n",
       "      <td>10.000000</td>\n",
       "      <td>10.000000</td>\n",
       "      <td>10.000000</td>\n",
       "      <td>10.000000</td>\n",
       "      <td>10.000000</td>\n",
       "      <td>10.000000</td>\n",
       "    </tr>\n",
       "    <tr>\n",
       "      <th>mean</th>\n",
       "      <td>0.573337</td>\n",
       "      <td>0.604508</td>\n",
       "      <td>0.492677</td>\n",
       "      <td>0.522201</td>\n",
       "      <td>0.400000</td>\n",
       "      <td>2.474629</td>\n",
       "      <td>0.949258</td>\n",
       "    </tr>\n",
       "    <tr>\n",
       "      <th>std</th>\n",
       "      <td>0.335966</td>\n",
       "      <td>0.340176</td>\n",
       "      <td>0.219183</td>\n",
       "      <td>0.268165</td>\n",
       "      <td>0.516398</td>\n",
       "      <td>0.320690</td>\n",
       "      <td>0.641381</td>\n",
       "    </tr>\n",
       "    <tr>\n",
       "      <th>min</th>\n",
       "      <td>0.087684</td>\n",
       "      <td>0.035732</td>\n",
       "      <td>0.179517</td>\n",
       "      <td>0.040889</td>\n",
       "      <td>0.000000</td>\n",
       "      <td>2.131890</td>\n",
       "      <td>0.263781</td>\n",
       "    </tr>\n",
       "    <tr>\n",
       "      <th>25%</th>\n",
       "      <td>0.246693</td>\n",
       "      <td>0.307905</td>\n",
       "      <td>0.311383</td>\n",
       "      <td>0.417354</td>\n",
       "      <td>0.000000</td>\n",
       "      <td>2.225987</td>\n",
       "      <td>0.451974</td>\n",
       "    </tr>\n",
       "    <tr>\n",
       "      <th>50%</th>\n",
       "      <td>0.675384</td>\n",
       "      <td>0.736283</td>\n",
       "      <td>0.543168</td>\n",
       "      <td>0.574265</td>\n",
       "      <td>0.000000</td>\n",
       "      <td>2.350631</td>\n",
       "      <td>0.701263</td>\n",
       "    </tr>\n",
       "    <tr>\n",
       "      <th>75%</th>\n",
       "      <td>0.833602</td>\n",
       "      <td>0.865541</td>\n",
       "      <td>0.684287</td>\n",
       "      <td>0.632812</td>\n",
       "      <td>1.000000</td>\n",
       "      <td>2.772590</td>\n",
       "      <td>1.545181</td>\n",
       "    </tr>\n",
       "    <tr>\n",
       "      <th>max</th>\n",
       "      <td>0.967709</td>\n",
       "      <td>0.961918</td>\n",
       "      <td>0.754011</td>\n",
       "      <td>0.988741</td>\n",
       "      <td>1.000000</td>\n",
       "      <td>2.942172</td>\n",
       "      <td>1.884344</td>\n",
       "    </tr>\n",
       "  </tbody>\n",
       "</table>\n",
       "</div>"
      ],
      "text/plain": [
       "          score1     score2     score3     score4     score5     score7  \\\n",
       "count  10.000000  10.000000  10.000000  10.000000  10.000000  10.000000   \n",
       "mean    0.573337   0.604508   0.492677   0.522201   0.400000   2.474629   \n",
       "std     0.335966   0.340176   0.219183   0.268165   0.516398   0.320690   \n",
       "min     0.087684   0.035732   0.179517   0.040889   0.000000   2.131890   \n",
       "25%     0.246693   0.307905   0.311383   0.417354   0.000000   2.225987   \n",
       "50%     0.675384   0.736283   0.543168   0.574265   0.000000   2.350631   \n",
       "75%     0.833602   0.865541   0.684287   0.632812   1.000000   2.772590   \n",
       "max     0.967709   0.961918   0.754011   0.988741   1.000000   2.942172   \n",
       "\n",
       "          score8  \n",
       "count  10.000000  \n",
       "mean    0.949258  \n",
       "std     0.641381  \n",
       "min     0.263781  \n",
       "25%     0.451974  \n",
       "50%     0.701263  \n",
       "75%     1.545181  \n",
       "max     1.884344  "
      ]
     },
     "execution_count": 169,
     "metadata": {},
     "output_type": "execute_result"
    }
   ],
   "source": [
    "#Statistical detail about columns in dataframe\n",
    "df.describe()"
   ]
  },
  {
   "cell_type": "code",
   "execution_count": null,
   "metadata": {
    "collapsed": false
   },
   "outputs": [],
   "source": [
    "print df.score1>0.5\n"
   ]
  },
  {
   "cell_type": "code",
   "execution_count": 170,
   "metadata": {
    "collapsed": false
   },
   "outputs": [
    {
     "data": {
      "text/html": [
       "<div>\n",
       "<style scoped>\n",
       "    .dataframe tbody tr th:only-of-type {\n",
       "        vertical-align: middle;\n",
       "    }\n",
       "\n",
       "    .dataframe tbody tr th {\n",
       "        vertical-align: top;\n",
       "    }\n",
       "\n",
       "    .dataframe thead th {\n",
       "        text-align: right;\n",
       "    }\n",
       "</style>\n",
       "<table border=\"1\" class=\"dataframe\">\n",
       "  <thead>\n",
       "    <tr style=\"text-align: right;\">\n",
       "      <th></th>\n",
       "      <th>score1</th>\n",
       "      <th>score2</th>\n",
       "      <th>score3</th>\n",
       "      <th>score4</th>\n",
       "      <th>score5</th>\n",
       "      <th>score7</th>\n",
       "      <th>score8</th>\n",
       "      <th>name</th>\n",
       "    </tr>\n",
       "  </thead>\n",
       "  <tbody>\n",
       "    <tr>\n",
       "      <th>0</th>\n",
       "      <td>0.482080</td>\n",
       "      <td>0.202607</td>\n",
       "      <td>0.579824</td>\n",
       "      <td>0.586028</td>\n",
       "      <td>1.0</td>\n",
       "      <td>2.811874</td>\n",
       "      <td>1.623747</td>\n",
       "      <td>dummy</td>\n",
       "    </tr>\n",
       "    <tr>\n",
       "      <th>1</th>\n",
       "      <td>0.087684</td>\n",
       "      <td>0.782998</td>\n",
       "      <td>0.185257</td>\n",
       "      <td>0.988741</td>\n",
       "      <td>0.0</td>\n",
       "      <td>2.146553</td>\n",
       "      <td>0.293107</td>\n",
       "      <td>dummy</td>\n",
       "    </tr>\n",
       "    <tr>\n",
       "      <th>2</th>\n",
       "      <td>0.967709</td>\n",
       "      <td>0.961918</td>\n",
       "      <td>0.754011</td>\n",
       "      <td>0.562501</td>\n",
       "      <td>0.0</td>\n",
       "      <td>2.220026</td>\n",
       "      <td>0.440052</td>\n",
       "      <td>dummy</td>\n",
       "    </tr>\n",
       "    <tr>\n",
       "      <th>3</th>\n",
       "      <td>0.780514</td>\n",
       "      <td>0.780570</td>\n",
       "      <td>0.718742</td>\n",
       "      <td>0.040889</td>\n",
       "      <td>0.0</td>\n",
       "      <td>2.425112</td>\n",
       "      <td>0.850224</td>\n",
       "      <td>dummy</td>\n",
       "    </tr>\n",
       "    <tr>\n",
       "      <th>4</th>\n",
       "      <td>0.851298</td>\n",
       "      <td>0.623798</td>\n",
       "      <td>0.278158</td>\n",
       "      <td>0.731203</td>\n",
       "      <td>0.0</td>\n",
       "      <td>2.276151</td>\n",
       "      <td>0.552302</td>\n",
       "      <td>dummy</td>\n",
       "    </tr>\n",
       "    <tr>\n",
       "      <th>5</th>\n",
       "      <td>0.913365</td>\n",
       "      <td>0.172038</td>\n",
       "      <td>0.179517</td>\n",
       "      <td>0.189940</td>\n",
       "      <td>0.0</td>\n",
       "      <td>2.243870</td>\n",
       "      <td>0.487740</td>\n",
       "      <td>dummy</td>\n",
       "    </tr>\n",
       "    <tr>\n",
       "      <th>6</th>\n",
       "      <td>0.661681</td>\n",
       "      <td>0.893055</td>\n",
       "      <td>0.411060</td>\n",
       "      <td>0.594151</td>\n",
       "      <td>1.0</td>\n",
       "      <td>2.942172</td>\n",
       "      <td>1.884344</td>\n",
       "      <td>dummy</td>\n",
       "    </tr>\n",
       "    <tr>\n",
       "      <th>7</th>\n",
       "      <td>0.131721</td>\n",
       "      <td>0.900371</td>\n",
       "      <td>0.711727</td>\n",
       "      <td>0.393277</td>\n",
       "      <td>1.0</td>\n",
       "      <td>2.654741</td>\n",
       "      <td>1.309482</td>\n",
       "      <td>dummy</td>\n",
       "    </tr>\n",
       "    <tr>\n",
       "      <th>8</th>\n",
       "      <td>0.689088</td>\n",
       "      <td>0.035732</td>\n",
       "      <td>0.601966</td>\n",
       "      <td>0.489583</td>\n",
       "      <td>0.0</td>\n",
       "      <td>2.131890</td>\n",
       "      <td>0.263781</td>\n",
       "      <td>dummy</td>\n",
       "    </tr>\n",
       "    <tr>\n",
       "      <th>9</th>\n",
       "      <td>0.168231</td>\n",
       "      <td>0.691996</td>\n",
       "      <td>0.506512</td>\n",
       "      <td>0.645698</td>\n",
       "      <td>1.0</td>\n",
       "      <td>2.893901</td>\n",
       "      <td>1.787802</td>\n",
       "      <td>dummy</td>\n",
       "    </tr>\n",
       "  </tbody>\n",
       "</table>\n",
       "</div>"
      ],
      "text/plain": [
       "     score1    score2    score3    score4  score5    score7    score8   name\n",
       "0  0.482080  0.202607  0.579824  0.586028     1.0  2.811874  1.623747  dummy\n",
       "1  0.087684  0.782998  0.185257  0.988741     0.0  2.146553  0.293107  dummy\n",
       "2  0.967709  0.961918  0.754011  0.562501     0.0  2.220026  0.440052  dummy\n",
       "3  0.780514  0.780570  0.718742  0.040889     0.0  2.425112  0.850224  dummy\n",
       "4  0.851298  0.623798  0.278158  0.731203     0.0  2.276151  0.552302  dummy\n",
       "5  0.913365  0.172038  0.179517  0.189940     0.0  2.243870  0.487740  dummy\n",
       "6  0.661681  0.893055  0.411060  0.594151     1.0  2.942172  1.884344  dummy\n",
       "7  0.131721  0.900371  0.711727  0.393277     1.0  2.654741  1.309482  dummy\n",
       "8  0.689088  0.035732  0.601966  0.489583     0.0  2.131890  0.263781  dummy\n",
       "9  0.168231  0.691996  0.506512  0.645698     1.0  2.893901  1.787802  dummy"
      ]
     },
     "execution_count": 170,
     "metadata": {},
     "output_type": "execute_result"
    }
   ],
   "source": [
    "df"
   ]
  },
  {
   "cell_type": "code",
   "execution_count": 171,
   "metadata": {
    "collapsed": false
   },
   "outputs": [
    {
     "data": {
      "text/html": [
       "<div>\n",
       "<style scoped>\n",
       "    .dataframe tbody tr th:only-of-type {\n",
       "        vertical-align: middle;\n",
       "    }\n",
       "\n",
       "    .dataframe tbody tr th {\n",
       "        vertical-align: top;\n",
       "    }\n",
       "\n",
       "    .dataframe thead th {\n",
       "        text-align: right;\n",
       "    }\n",
       "</style>\n",
       "<table border=\"1\" class=\"dataframe\">\n",
       "  <thead>\n",
       "    <tr style=\"text-align: right;\">\n",
       "      <th></th>\n",
       "      <th>score1</th>\n",
       "      <th>score2</th>\n",
       "      <th>score3</th>\n",
       "      <th>score4</th>\n",
       "      <th>score5</th>\n",
       "      <th>score7</th>\n",
       "      <th>score8</th>\n",
       "      <th>name</th>\n",
       "    </tr>\n",
       "  </thead>\n",
       "  <tbody>\n",
       "    <tr>\n",
       "      <th>5</th>\n",
       "      <td>0.913365</td>\n",
       "      <td>0.172038</td>\n",
       "      <td>0.179517</td>\n",
       "      <td>0.189940</td>\n",
       "      <td>0.0</td>\n",
       "      <td>2.24387</td>\n",
       "      <td>0.487740</td>\n",
       "      <td>dummy</td>\n",
       "    </tr>\n",
       "    <tr>\n",
       "      <th>8</th>\n",
       "      <td>0.689088</td>\n",
       "      <td>0.035732</td>\n",
       "      <td>0.601966</td>\n",
       "      <td>0.489583</td>\n",
       "      <td>0.0</td>\n",
       "      <td>2.13189</td>\n",
       "      <td>0.263781</td>\n",
       "      <td>dummy</td>\n",
       "    </tr>\n",
       "  </tbody>\n",
       "</table>\n",
       "</div>"
      ],
      "text/plain": [
       "     score1    score2    score3    score4  score5   score7    score8   name\n",
       "5  0.913365  0.172038  0.179517  0.189940     0.0  2.24387  0.487740  dummy\n",
       "8  0.689088  0.035732  0.601966  0.489583     0.0  2.13189  0.263781  dummy"
      ]
     },
     "execution_count": 171,
     "metadata": {},
     "output_type": "execute_result"
    }
   ],
   "source": [
    "df[(df.score1>0.5) & (df.score2<0.5)]#['score1'].values"
   ]
  },
  {
   "cell_type": "code",
   "execution_count": 172,
   "metadata": {
    "collapsed": false
   },
   "outputs": [
    {
     "data": {
      "text/html": [
       "<div>\n",
       "<style scoped>\n",
       "    .dataframe tbody tr th:only-of-type {\n",
       "        vertical-align: middle;\n",
       "    }\n",
       "\n",
       "    .dataframe tbody tr th {\n",
       "        vertical-align: top;\n",
       "    }\n",
       "\n",
       "    .dataframe thead th {\n",
       "        text-align: right;\n",
       "    }\n",
       "</style>\n",
       "<table border=\"1\" class=\"dataframe\">\n",
       "  <thead>\n",
       "    <tr style=\"text-align: right;\">\n",
       "      <th></th>\n",
       "      <th>score1</th>\n",
       "      <th>score2</th>\n",
       "      <th>score3</th>\n",
       "      <th>score4</th>\n",
       "      <th>score5</th>\n",
       "      <th>score7</th>\n",
       "      <th>score8</th>\n",
       "      <th>name</th>\n",
       "    </tr>\n",
       "  </thead>\n",
       "  <tbody>\n",
       "    <tr>\n",
       "      <th>1</th>\n",
       "      <td>0.087684</td>\n",
       "      <td>0.782998</td>\n",
       "      <td>0.185257</td>\n",
       "      <td>0.988741</td>\n",
       "      <td>0.0</td>\n",
       "      <td>2.146553</td>\n",
       "      <td>0.293107</td>\n",
       "      <td>dummy</td>\n",
       "    </tr>\n",
       "    <tr>\n",
       "      <th>4</th>\n",
       "      <td>0.851298</td>\n",
       "      <td>0.623798</td>\n",
       "      <td>0.278158</td>\n",
       "      <td>0.731203</td>\n",
       "      <td>0.0</td>\n",
       "      <td>2.276151</td>\n",
       "      <td>0.552302</td>\n",
       "      <td>dummy</td>\n",
       "    </tr>\n",
       "    <tr>\n",
       "      <th>9</th>\n",
       "      <td>0.168231</td>\n",
       "      <td>0.691996</td>\n",
       "      <td>0.506512</td>\n",
       "      <td>0.645698</td>\n",
       "      <td>1.0</td>\n",
       "      <td>2.893901</td>\n",
       "      <td>1.787802</td>\n",
       "      <td>dummy</td>\n",
       "    </tr>\n",
       "    <tr>\n",
       "      <th>6</th>\n",
       "      <td>0.661681</td>\n",
       "      <td>0.893055</td>\n",
       "      <td>0.411060</td>\n",
       "      <td>0.594151</td>\n",
       "      <td>1.0</td>\n",
       "      <td>2.942172</td>\n",
       "      <td>1.884344</td>\n",
       "      <td>dummy</td>\n",
       "    </tr>\n",
       "    <tr>\n",
       "      <th>0</th>\n",
       "      <td>0.482080</td>\n",
       "      <td>0.202607</td>\n",
       "      <td>0.579824</td>\n",
       "      <td>0.586028</td>\n",
       "      <td>1.0</td>\n",
       "      <td>2.811874</td>\n",
       "      <td>1.623747</td>\n",
       "      <td>dummy</td>\n",
       "    </tr>\n",
       "    <tr>\n",
       "      <th>2</th>\n",
       "      <td>0.967709</td>\n",
       "      <td>0.961918</td>\n",
       "      <td>0.754011</td>\n",
       "      <td>0.562501</td>\n",
       "      <td>0.0</td>\n",
       "      <td>2.220026</td>\n",
       "      <td>0.440052</td>\n",
       "      <td>dummy</td>\n",
       "    </tr>\n",
       "    <tr>\n",
       "      <th>8</th>\n",
       "      <td>0.689088</td>\n",
       "      <td>0.035732</td>\n",
       "      <td>0.601966</td>\n",
       "      <td>0.489583</td>\n",
       "      <td>0.0</td>\n",
       "      <td>2.131890</td>\n",
       "      <td>0.263781</td>\n",
       "      <td>dummy</td>\n",
       "    </tr>\n",
       "    <tr>\n",
       "      <th>7</th>\n",
       "      <td>0.131721</td>\n",
       "      <td>0.900371</td>\n",
       "      <td>0.711727</td>\n",
       "      <td>0.393277</td>\n",
       "      <td>1.0</td>\n",
       "      <td>2.654741</td>\n",
       "      <td>1.309482</td>\n",
       "      <td>dummy</td>\n",
       "    </tr>\n",
       "    <tr>\n",
       "      <th>5</th>\n",
       "      <td>0.913365</td>\n",
       "      <td>0.172038</td>\n",
       "      <td>0.179517</td>\n",
       "      <td>0.189940</td>\n",
       "      <td>0.0</td>\n",
       "      <td>2.243870</td>\n",
       "      <td>0.487740</td>\n",
       "      <td>dummy</td>\n",
       "    </tr>\n",
       "    <tr>\n",
       "      <th>3</th>\n",
       "      <td>0.780514</td>\n",
       "      <td>0.780570</td>\n",
       "      <td>0.718742</td>\n",
       "      <td>0.040889</td>\n",
       "      <td>0.0</td>\n",
       "      <td>2.425112</td>\n",
       "      <td>0.850224</td>\n",
       "      <td>dummy</td>\n",
       "    </tr>\n",
       "  </tbody>\n",
       "</table>\n",
       "</div>"
      ],
      "text/plain": [
       "     score1    score2    score3    score4  score5    score7    score8   name\n",
       "1  0.087684  0.782998  0.185257  0.988741     0.0  2.146553  0.293107  dummy\n",
       "4  0.851298  0.623798  0.278158  0.731203     0.0  2.276151  0.552302  dummy\n",
       "9  0.168231  0.691996  0.506512  0.645698     1.0  2.893901  1.787802  dummy\n",
       "6  0.661681  0.893055  0.411060  0.594151     1.0  2.942172  1.884344  dummy\n",
       "0  0.482080  0.202607  0.579824  0.586028     1.0  2.811874  1.623747  dummy\n",
       "2  0.967709  0.961918  0.754011  0.562501     0.0  2.220026  0.440052  dummy\n",
       "8  0.689088  0.035732  0.601966  0.489583     0.0  2.131890  0.263781  dummy\n",
       "7  0.131721  0.900371  0.711727  0.393277     1.0  2.654741  1.309482  dummy\n",
       "5  0.913365  0.172038  0.179517  0.189940     0.0  2.243870  0.487740  dummy\n",
       "3  0.780514  0.780570  0.718742  0.040889     0.0  2.425112  0.850224  dummy"
      ]
     },
     "execution_count": 172,
     "metadata": {},
     "output_type": "execute_result"
    }
   ],
   "source": [
    "#sorting\n",
    "df.sort_values('score4',ascending =False) #by default ascending "
   ]
  },
  {
   "cell_type": "code",
   "execution_count": 173,
   "metadata": {
    "collapsed": false
   },
   "outputs": [
    {
     "name": "stderr",
     "output_type": "stream",
     "text": [
      "/Users/mkumar/anaconda2/lib/python2.7/site-packages/ipykernel/__main__.py:1: DeprecationWarning: \n",
      ".ix is deprecated. Please use\n",
      ".loc for label based indexing or\n",
      ".iloc for positional indexing\n",
      "\n",
      "See the documentation here:\n",
      "http://pandas.pydata.org/pandas-docs/stable/indexing.html#ix-indexer-is-deprecated\n",
      "  if __name__ == '__main__':\n"
     ]
    },
    {
     "data": {
      "text/html": [
       "<div>\n",
       "<style scoped>\n",
       "    .dataframe tbody tr th:only-of-type {\n",
       "        vertical-align: middle;\n",
       "    }\n",
       "\n",
       "    .dataframe tbody tr th {\n",
       "        vertical-align: top;\n",
       "    }\n",
       "\n",
       "    .dataframe thead th {\n",
       "        text-align: right;\n",
       "    }\n",
       "</style>\n",
       "<table border=\"1\" class=\"dataframe\">\n",
       "  <thead>\n",
       "    <tr style=\"text-align: right;\">\n",
       "      <th></th>\n",
       "      <th>score1</th>\n",
       "      <th>score2</th>\n",
       "      <th>score3</th>\n",
       "      <th>score4</th>\n",
       "      <th>score5</th>\n",
       "      <th>score7</th>\n",
       "      <th>score8</th>\n",
       "      <th>name</th>\n",
       "    </tr>\n",
       "  </thead>\n",
       "  <tbody>\n",
       "    <tr>\n",
       "      <th>0</th>\n",
       "      <td>0.482080</td>\n",
       "      <td>0.202607</td>\n",
       "      <td>0.579824</td>\n",
       "      <td>0.586028</td>\n",
       "      <td>1.0</td>\n",
       "      <td>2.811874</td>\n",
       "      <td>1.623747</td>\n",
       "      <td>dummy</td>\n",
       "    </tr>\n",
       "    <tr>\n",
       "      <th>1</th>\n",
       "      <td>0.087684</td>\n",
       "      <td>0.782998</td>\n",
       "      <td>0.185257</td>\n",
       "      <td>0.988741</td>\n",
       "      <td>0.0</td>\n",
       "      <td>2.146553</td>\n",
       "      <td>0.293107</td>\n",
       "      <td>dummy</td>\n",
       "    </tr>\n",
       "    <tr>\n",
       "      <th>2</th>\n",
       "      <td>0.967709</td>\n",
       "      <td>0.961918</td>\n",
       "      <td>0.754011</td>\n",
       "      <td>0.562501</td>\n",
       "      <td>0.0</td>\n",
       "      <td>2.220026</td>\n",
       "      <td>0.440052</td>\n",
       "      <td>dummy</td>\n",
       "    </tr>\n",
       "    <tr>\n",
       "      <th>3</th>\n",
       "      <td>0.780514</td>\n",
       "      <td>0.780570</td>\n",
       "      <td>0.718742</td>\n",
       "      <td>0.040889</td>\n",
       "      <td>0.0</td>\n",
       "      <td>2.425112</td>\n",
       "      <td>0.850224</td>\n",
       "      <td>dummy</td>\n",
       "    </tr>\n",
       "  </tbody>\n",
       "</table>\n",
       "</div>"
      ],
      "text/plain": [
       "     score1    score2    score3    score4  score5    score7    score8   name\n",
       "0  0.482080  0.202607  0.579824  0.586028     1.0  2.811874  1.623747  dummy\n",
       "1  0.087684  0.782998  0.185257  0.988741     0.0  2.146553  0.293107  dummy\n",
       "2  0.967709  0.961918  0.754011  0.562501     0.0  2.220026  0.440052  dummy\n",
       "3  0.780514  0.780570  0.718742  0.040889     0.0  2.425112  0.850224  dummy"
      ]
     },
     "execution_count": 173,
     "metadata": {},
     "output_type": "execute_result"
    }
   ],
   "source": [
    "df.ix[0:3] #similar is loc. iloc is specific to index"
   ]
  },
  {
   "cell_type": "code",
   "execution_count": 174,
   "metadata": {
    "collapsed": false
   },
   "outputs": [
    {
     "data": {
      "text/html": [
       "<div>\n",
       "<style scoped>\n",
       "    .dataframe tbody tr th:only-of-type {\n",
       "        vertical-align: middle;\n",
       "    }\n",
       "\n",
       "    .dataframe tbody tr th {\n",
       "        vertical-align: top;\n",
       "    }\n",
       "\n",
       "    .dataframe thead th {\n",
       "        text-align: right;\n",
       "    }\n",
       "</style>\n",
       "<table border=\"1\" class=\"dataframe\">\n",
       "  <thead>\n",
       "    <tr style=\"text-align: right;\">\n",
       "      <th></th>\n",
       "      <th>score1</th>\n",
       "      <th>score2</th>\n",
       "      <th>score3</th>\n",
       "      <th>score4</th>\n",
       "      <th>score5</th>\n",
       "      <th>score7</th>\n",
       "      <th>score8</th>\n",
       "      <th>name</th>\n",
       "    </tr>\n",
       "  </thead>\n",
       "  <tbody>\n",
       "    <tr>\n",
       "      <th>0</th>\n",
       "      <td>0.482080</td>\n",
       "      <td>0.202607</td>\n",
       "      <td>0.579824</td>\n",
       "      <td>0.586028</td>\n",
       "      <td>1.0</td>\n",
       "      <td>2.811874</td>\n",
       "      <td>1.623747</td>\n",
       "      <td>dummy</td>\n",
       "    </tr>\n",
       "    <tr>\n",
       "      <th>1</th>\n",
       "      <td>0.087684</td>\n",
       "      <td>0.782998</td>\n",
       "      <td>0.185257</td>\n",
       "      <td>0.988741</td>\n",
       "      <td>0.0</td>\n",
       "      <td>2.146553</td>\n",
       "      <td>0.293107</td>\n",
       "      <td>dummy</td>\n",
       "    </tr>\n",
       "    <tr>\n",
       "      <th>2</th>\n",
       "      <td>0.967709</td>\n",
       "      <td>0.961918</td>\n",
       "      <td>0.754011</td>\n",
       "      <td>0.562501</td>\n",
       "      <td>0.0</td>\n",
       "      <td>2.220026</td>\n",
       "      <td>0.440052</td>\n",
       "      <td>dummy</td>\n",
       "    </tr>\n",
       "    <tr>\n",
       "      <th>3</th>\n",
       "      <td>0.780514</td>\n",
       "      <td>0.780570</td>\n",
       "      <td>0.718742</td>\n",
       "      <td>0.040889</td>\n",
       "      <td>0.0</td>\n",
       "      <td>2.425112</td>\n",
       "      <td>0.850224</td>\n",
       "      <td>dummy</td>\n",
       "    </tr>\n",
       "  </tbody>\n",
       "</table>\n",
       "</div>"
      ],
      "text/plain": [
       "     score1    score2    score3    score4  score5    score7    score8   name\n",
       "0  0.482080  0.202607  0.579824  0.586028     1.0  2.811874  1.623747  dummy\n",
       "1  0.087684  0.782998  0.185257  0.988741     0.0  2.146553  0.293107  dummy\n",
       "2  0.967709  0.961918  0.754011  0.562501     0.0  2.220026  0.440052  dummy\n",
       "3  0.780514  0.780570  0.718742  0.040889     0.0  2.425112  0.850224  dummy"
      ]
     },
     "execution_count": 174,
     "metadata": {},
     "output_type": "execute_result"
    }
   ],
   "source": [
    "df1=df[:4].copy()\n",
    "df1"
   ]
  },
  {
   "cell_type": "markdown",
   "metadata": {},
   "source": [
    "#Loc , iLoc, ix comparison"
   ]
  },
  {
   "cell_type": "code",
   "execution_count": 175,
   "metadata": {
    "collapsed": false
   },
   "outputs": [
    {
     "data": {
      "text/html": [
       "<div>\n",
       "<style scoped>\n",
       "    .dataframe tbody tr th:only-of-type {\n",
       "        vertical-align: middle;\n",
       "    }\n",
       "\n",
       "    .dataframe tbody tr th {\n",
       "        vertical-align: top;\n",
       "    }\n",
       "\n",
       "    .dataframe thead th {\n",
       "        text-align: right;\n",
       "    }\n",
       "</style>\n",
       "<table border=\"1\" class=\"dataframe\">\n",
       "  <thead>\n",
       "    <tr style=\"text-align: right;\">\n",
       "      <th></th>\n",
       "      <th>score1</th>\n",
       "      <th>score2</th>\n",
       "      <th>score3</th>\n",
       "      <th>score4</th>\n",
       "      <th>score5</th>\n",
       "      <th>score7</th>\n",
       "      <th>score8</th>\n",
       "      <th>name</th>\n",
       "    </tr>\n",
       "  </thead>\n",
       "  <tbody>\n",
       "    <tr>\n",
       "      <th>0</th>\n",
       "      <td>0.482080</td>\n",
       "      <td>0.202607</td>\n",
       "      <td>0.579824</td>\n",
       "      <td>0.586028</td>\n",
       "      <td>1.0</td>\n",
       "      <td>2.811874</td>\n",
       "      <td>1.623747</td>\n",
       "      <td>dummy</td>\n",
       "    </tr>\n",
       "    <tr>\n",
       "      <th>1</th>\n",
       "      <td>0.087684</td>\n",
       "      <td>0.782998</td>\n",
       "      <td>0.185257</td>\n",
       "      <td>0.988741</td>\n",
       "      <td>0.0</td>\n",
       "      <td>2.146553</td>\n",
       "      <td>0.293107</td>\n",
       "      <td>dummy</td>\n",
       "    </tr>\n",
       "    <tr>\n",
       "      <th>2</th>\n",
       "      <td>0.967709</td>\n",
       "      <td>0.961918</td>\n",
       "      <td>0.754011</td>\n",
       "      <td>0.562501</td>\n",
       "      <td>0.0</td>\n",
       "      <td>2.220026</td>\n",
       "      <td>0.440052</td>\n",
       "      <td>dummy</td>\n",
       "    </tr>\n",
       "    <tr>\n",
       "      <th>3</th>\n",
       "      <td>0.780514</td>\n",
       "      <td>0.780570</td>\n",
       "      <td>0.718742</td>\n",
       "      <td>0.040889</td>\n",
       "      <td>0.0</td>\n",
       "      <td>2.425112</td>\n",
       "      <td>0.850224</td>\n",
       "      <td>dummy</td>\n",
       "    </tr>\n",
       "  </tbody>\n",
       "</table>\n",
       "</div>"
      ],
      "text/plain": [
       "     score1    score2    score3    score4  score5    score7    score8   name\n",
       "0  0.482080  0.202607  0.579824  0.586028     1.0  2.811874  1.623747  dummy\n",
       "1  0.087684  0.782998  0.185257  0.988741     0.0  2.146553  0.293107  dummy\n",
       "2  0.967709  0.961918  0.754011  0.562501     0.0  2.220026  0.440052  dummy\n",
       "3  0.780514  0.780570  0.718742  0.040889     0.0  2.425112  0.850224  dummy"
      ]
     },
     "execution_count": 175,
     "metadata": {},
     "output_type": "execute_result"
    }
   ],
   "source": [
    "df1"
   ]
  },
  {
   "cell_type": "code",
   "execution_count": 176,
   "metadata": {
    "collapsed": false
   },
   "outputs": [
    {
     "data": {
      "text/plain": [
       "score1     0.48208\n",
       "score2    0.202607\n",
       "score3    0.579824\n",
       "score4    0.586028\n",
       "score5           1\n",
       "score7     2.81187\n",
       "score8     1.62375\n",
       "name         dummy\n",
       "Name: 0, dtype: object"
      ]
     },
     "execution_count": 176,
     "metadata": {},
     "output_type": "execute_result"
    }
   ],
   "source": [
    "df1.iloc[0]"
   ]
  },
  {
   "cell_type": "code",
   "execution_count": 177,
   "metadata": {
    "collapsed": false
   },
   "outputs": [
    {
     "data": {
      "text/plain": [
       "score1     0.48208\n",
       "score2    0.202607\n",
       "score3    0.579824\n",
       "score4    0.586028\n",
       "score5           1\n",
       "score7     2.81187\n",
       "score8     1.62375\n",
       "name         dummy\n",
       "Name: 0, dtype: object"
      ]
     },
     "execution_count": 177,
     "metadata": {},
     "output_type": "execute_result"
    }
   ],
   "source": [
    "df1.loc[0]"
   ]
  },
  {
   "cell_type": "code",
   "execution_count": null,
   "metadata": {
    "collapsed": true
   },
   "outputs": [],
   "source": [
    "#Loc , iLoc, ix comparison"
   ]
  },
  {
   "cell_type": "code",
   "execution_count": 178,
   "metadata": {
    "collapsed": true
   },
   "outputs": [],
   "source": [
    "df1.index=['a','b','c','d'] #[0 1 2 3]"
   ]
  },
  {
   "cell_type": "code",
   "execution_count": 179,
   "metadata": {
    "collapsed": false
   },
   "outputs": [
    {
     "data": {
      "text/html": [
       "<div>\n",
       "<style scoped>\n",
       "    .dataframe tbody tr th:only-of-type {\n",
       "        vertical-align: middle;\n",
       "    }\n",
       "\n",
       "    .dataframe tbody tr th {\n",
       "        vertical-align: top;\n",
       "    }\n",
       "\n",
       "    .dataframe thead th {\n",
       "        text-align: right;\n",
       "    }\n",
       "</style>\n",
       "<table border=\"1\" class=\"dataframe\">\n",
       "  <thead>\n",
       "    <tr style=\"text-align: right;\">\n",
       "      <th></th>\n",
       "      <th>score1</th>\n",
       "      <th>score2</th>\n",
       "      <th>score3</th>\n",
       "      <th>score4</th>\n",
       "      <th>score5</th>\n",
       "      <th>score7</th>\n",
       "      <th>score8</th>\n",
       "      <th>name</th>\n",
       "    </tr>\n",
       "  </thead>\n",
       "  <tbody>\n",
       "    <tr>\n",
       "      <th>a</th>\n",
       "      <td>0.482080</td>\n",
       "      <td>0.202607</td>\n",
       "      <td>0.579824</td>\n",
       "      <td>0.586028</td>\n",
       "      <td>1.0</td>\n",
       "      <td>2.811874</td>\n",
       "      <td>1.623747</td>\n",
       "      <td>dummy</td>\n",
       "    </tr>\n",
       "    <tr>\n",
       "      <th>b</th>\n",
       "      <td>0.087684</td>\n",
       "      <td>0.782998</td>\n",
       "      <td>0.185257</td>\n",
       "      <td>0.988741</td>\n",
       "      <td>0.0</td>\n",
       "      <td>2.146553</td>\n",
       "      <td>0.293107</td>\n",
       "      <td>dummy</td>\n",
       "    </tr>\n",
       "    <tr>\n",
       "      <th>c</th>\n",
       "      <td>0.967709</td>\n",
       "      <td>0.961918</td>\n",
       "      <td>0.754011</td>\n",
       "      <td>0.562501</td>\n",
       "      <td>0.0</td>\n",
       "      <td>2.220026</td>\n",
       "      <td>0.440052</td>\n",
       "      <td>dummy</td>\n",
       "    </tr>\n",
       "    <tr>\n",
       "      <th>d</th>\n",
       "      <td>0.780514</td>\n",
       "      <td>0.780570</td>\n",
       "      <td>0.718742</td>\n",
       "      <td>0.040889</td>\n",
       "      <td>0.0</td>\n",
       "      <td>2.425112</td>\n",
       "      <td>0.850224</td>\n",
       "      <td>dummy</td>\n",
       "    </tr>\n",
       "  </tbody>\n",
       "</table>\n",
       "</div>"
      ],
      "text/plain": [
       "     score1    score2    score3    score4  score5    score7    score8   name\n",
       "a  0.482080  0.202607  0.579824  0.586028     1.0  2.811874  1.623747  dummy\n",
       "b  0.087684  0.782998  0.185257  0.988741     0.0  2.146553  0.293107  dummy\n",
       "c  0.967709  0.961918  0.754011  0.562501     0.0  2.220026  0.440052  dummy\n",
       "d  0.780514  0.780570  0.718742  0.040889     0.0  2.425112  0.850224  dummy"
      ]
     },
     "execution_count": 179,
     "metadata": {},
     "output_type": "execute_result"
    }
   ],
   "source": [
    "df1"
   ]
  },
  {
   "cell_type": "code",
   "execution_count": 182,
   "metadata": {
    "collapsed": false
   },
   "outputs": [
    {
     "data": {
      "text/plain": [
       "score1    0.0876842\n",
       "score2     0.782998\n",
       "score3     0.185257\n",
       "score4     0.988741\n",
       "score5            0\n",
       "score7      2.14655\n",
       "score8     0.293107\n",
       "name          dummy\n",
       "Name: b, dtype: object"
      ]
     },
     "execution_count": 182,
     "metadata": {},
     "output_type": "execute_result"
    }
   ],
   "source": [
    "df1.loc['b'] #refers based on index actua"
   ]
  },
  {
   "cell_type": "code",
   "execution_count": 186,
   "metadata": {
    "collapsed": false
   },
   "outputs": [
    {
     "data": {
      "text/plain": [
       "score1    0.0876842\n",
       "score2     0.782998\n",
       "score3     0.185257\n",
       "score4     0.988741\n",
       "score5            0\n",
       "score7      2.14655\n",
       "score8     0.293107\n",
       "name          dummy\n",
       "Name: b, dtype: object"
      ]
     },
     "execution_count": 186,
     "metadata": {},
     "output_type": "execute_result"
    }
   ],
   "source": [
    "df1.iloc[1]"
   ]
  },
  {
   "cell_type": "code",
   "execution_count": null,
   "metadata": {
    "collapsed": false
   },
   "outputs": [],
   "source": [
    "#df1.iloc[0] # index positional value\n",
    "#df1.iloc['a'] #direct index label will throw error"
   ]
  },
  {
   "cell_type": "code",
   "execution_count": 193,
   "metadata": {
    "collapsed": false
   },
   "outputs": [
    {
     "name": "stderr",
     "output_type": "stream",
     "text": [
      "/Users/mkumar/anaconda2/lib/python2.7/site-packages/ipykernel/__main__.py:1: SettingWithCopyWarning: \n",
      "A value is trying to be set on a copy of a slice from a DataFrame\n",
      "\n",
      "See the caveats in the documentation: http://pandas.pydata.org/pandas-docs/stable/indexing.html#indexing-view-versus-copy\n",
      "  if __name__ == '__main__':\n"
     ]
    }
   ],
   "source": [
    "df1.ix['a']['score8']"
   ]
  },
  {
   "cell_type": "code",
   "execution_count": 195,
   "metadata": {
    "collapsed": false
   },
   "outputs": [
    {
     "data": {
      "text/html": [
       "<div>\n",
       "<style scoped>\n",
       "    .dataframe tbody tr th:only-of-type {\n",
       "        vertical-align: middle;\n",
       "    }\n",
       "\n",
       "    .dataframe tbody tr th {\n",
       "        vertical-align: top;\n",
       "    }\n",
       "\n",
       "    .dataframe thead th {\n",
       "        text-align: right;\n",
       "    }\n",
       "</style>\n",
       "<table border=\"1\" class=\"dataframe\">\n",
       "  <thead>\n",
       "    <tr style=\"text-align: right;\">\n",
       "      <th></th>\n",
       "      <th>score1</th>\n",
       "      <th>score2</th>\n",
       "      <th>score3</th>\n",
       "      <th>score4</th>\n",
       "      <th>score5</th>\n",
       "      <th>score7</th>\n",
       "      <th>score8</th>\n",
       "      <th>name</th>\n",
       "    </tr>\n",
       "  </thead>\n",
       "  <tbody>\n",
       "    <tr>\n",
       "      <th>0</th>\n",
       "      <td>0.482080</td>\n",
       "      <td>0.202607</td>\n",
       "      <td>0.579824</td>\n",
       "      <td>0.586028</td>\n",
       "      <td>1.0</td>\n",
       "      <td>2.811874</td>\n",
       "      <td>1.623747</td>\n",
       "      <td>dummy</td>\n",
       "    </tr>\n",
       "    <tr>\n",
       "      <th>1</th>\n",
       "      <td>0.087684</td>\n",
       "      <td>0.782998</td>\n",
       "      <td>0.185257</td>\n",
       "      <td>0.988741</td>\n",
       "      <td>0.0</td>\n",
       "      <td>2.146553</td>\n",
       "      <td>0.293107</td>\n",
       "      <td>dummy</td>\n",
       "    </tr>\n",
       "    <tr>\n",
       "      <th>2</th>\n",
       "      <td>0.967709</td>\n",
       "      <td>0.961918</td>\n",
       "      <td>0.754011</td>\n",
       "      <td>0.562501</td>\n",
       "      <td>0.0</td>\n",
       "      <td>2.220026</td>\n",
       "      <td>0.440052</td>\n",
       "      <td>dummy</td>\n",
       "    </tr>\n",
       "    <tr>\n",
       "      <th>3</th>\n",
       "      <td>0.780514</td>\n",
       "      <td>0.780570</td>\n",
       "      <td>0.718742</td>\n",
       "      <td>0.040889</td>\n",
       "      <td>0.0</td>\n",
       "      <td>2.425112</td>\n",
       "      <td>0.850224</td>\n",
       "      <td>dummy</td>\n",
       "    </tr>\n",
       "    <tr>\n",
       "      <th>4</th>\n",
       "      <td>0.851298</td>\n",
       "      <td>0.623798</td>\n",
       "      <td>0.278158</td>\n",
       "      <td>0.731203</td>\n",
       "      <td>0.0</td>\n",
       "      <td>2.276151</td>\n",
       "      <td>0.552302</td>\n",
       "      <td>dummy</td>\n",
       "    </tr>\n",
       "    <tr>\n",
       "      <th>5</th>\n",
       "      <td>0.913365</td>\n",
       "      <td>0.172038</td>\n",
       "      <td>0.179517</td>\n",
       "      <td>0.189940</td>\n",
       "      <td>0.0</td>\n",
       "      <td>2.243870</td>\n",
       "      <td>0.487740</td>\n",
       "      <td>dummy</td>\n",
       "    </tr>\n",
       "    <tr>\n",
       "      <th>6</th>\n",
       "      <td>0.661681</td>\n",
       "      <td>0.893055</td>\n",
       "      <td>0.411060</td>\n",
       "      <td>0.594151</td>\n",
       "      <td>1.0</td>\n",
       "      <td>2.942172</td>\n",
       "      <td>1.884344</td>\n",
       "      <td>dummy</td>\n",
       "    </tr>\n",
       "    <tr>\n",
       "      <th>7</th>\n",
       "      <td>0.131721</td>\n",
       "      <td>0.900371</td>\n",
       "      <td>0.711727</td>\n",
       "      <td>0.393277</td>\n",
       "      <td>1.0</td>\n",
       "      <td>2.654741</td>\n",
       "      <td>1.309482</td>\n",
       "      <td>dummy</td>\n",
       "    </tr>\n",
       "    <tr>\n",
       "      <th>8</th>\n",
       "      <td>0.689088</td>\n",
       "      <td>0.035732</td>\n",
       "      <td>0.601966</td>\n",
       "      <td>0.489583</td>\n",
       "      <td>0.0</td>\n",
       "      <td>2.131890</td>\n",
       "      <td>0.263781</td>\n",
       "      <td>dummy</td>\n",
       "    </tr>\n",
       "    <tr>\n",
       "      <th>9</th>\n",
       "      <td>0.168231</td>\n",
       "      <td>0.691996</td>\n",
       "      <td>0.506512</td>\n",
       "      <td>0.645698</td>\n",
       "      <td>1.0</td>\n",
       "      <td>2.893901</td>\n",
       "      <td>1.787802</td>\n",
       "      <td>dummy</td>\n",
       "    </tr>\n",
       "  </tbody>\n",
       "</table>\n",
       "</div>"
      ],
      "text/plain": [
       "     score1    score2    score3    score4  score5    score7    score8   name\n",
       "0  0.482080  0.202607  0.579824  0.586028     1.0  2.811874  1.623747  dummy\n",
       "1  0.087684  0.782998  0.185257  0.988741     0.0  2.146553  0.293107  dummy\n",
       "2  0.967709  0.961918  0.754011  0.562501     0.0  2.220026  0.440052  dummy\n",
       "3  0.780514  0.780570  0.718742  0.040889     0.0  2.425112  0.850224  dummy\n",
       "4  0.851298  0.623798  0.278158  0.731203     0.0  2.276151  0.552302  dummy\n",
       "5  0.913365  0.172038  0.179517  0.189940     0.0  2.243870  0.487740  dummy\n",
       "6  0.661681  0.893055  0.411060  0.594151     1.0  2.942172  1.884344  dummy\n",
       "7  0.131721  0.900371  0.711727  0.393277     1.0  2.654741  1.309482  dummy\n",
       "8  0.689088  0.035732  0.601966  0.489583     0.0  2.131890  0.263781  dummy\n",
       "9  0.168231  0.691996  0.506512  0.645698     1.0  2.893901  1.787802  dummy"
      ]
     },
     "execution_count": 195,
     "metadata": {},
     "output_type": "execute_result"
    }
   ],
   "source": [
    "df"
   ]
  },
  {
   "cell_type": "code",
   "execution_count": 196,
   "metadata": {
    "collapsed": false
   },
   "outputs": [
    {
     "data": {
      "text/html": [
       "<div>\n",
       "<style scoped>\n",
       "    .dataframe tbody tr th:only-of-type {\n",
       "        vertical-align: middle;\n",
       "    }\n",
       "\n",
       "    .dataframe tbody tr th {\n",
       "        vertical-align: top;\n",
       "    }\n",
       "\n",
       "    .dataframe thead th {\n",
       "        text-align: right;\n",
       "    }\n",
       "</style>\n",
       "<table border=\"1\" class=\"dataframe\">\n",
       "  <thead>\n",
       "    <tr style=\"text-align: right;\">\n",
       "      <th></th>\n",
       "      <th>score1</th>\n",
       "      <th>score2</th>\n",
       "      <th>score3</th>\n",
       "      <th>score4</th>\n",
       "      <th>score5</th>\n",
       "      <th>score7</th>\n",
       "      <th>score8</th>\n",
       "      <th>name</th>\n",
       "    </tr>\n",
       "  </thead>\n",
       "  <tbody>\n",
       "    <tr>\n",
       "      <th>a</th>\n",
       "      <td>0.482080</td>\n",
       "      <td>0.202607</td>\n",
       "      <td>0.579824</td>\n",
       "      <td>0.586028</td>\n",
       "      <td>1.0</td>\n",
       "      <td>2.811874</td>\n",
       "      <td>1.623747</td>\n",
       "      <td>dummy</td>\n",
       "    </tr>\n",
       "    <tr>\n",
       "      <th>b</th>\n",
       "      <td>0.087684</td>\n",
       "      <td>0.782998</td>\n",
       "      <td>0.185257</td>\n",
       "      <td>0.988741</td>\n",
       "      <td>0.0</td>\n",
       "      <td>2.146553</td>\n",
       "      <td>0.293107</td>\n",
       "      <td>dummy</td>\n",
       "    </tr>\n",
       "    <tr>\n",
       "      <th>c</th>\n",
       "      <td>0.967709</td>\n",
       "      <td>0.961918</td>\n",
       "      <td>0.754011</td>\n",
       "      <td>0.562501</td>\n",
       "      <td>0.0</td>\n",
       "      <td>2.220026</td>\n",
       "      <td>0.440052</td>\n",
       "      <td>dummy</td>\n",
       "    </tr>\n",
       "    <tr>\n",
       "      <th>d</th>\n",
       "      <td>0.780514</td>\n",
       "      <td>0.780570</td>\n",
       "      <td>0.718742</td>\n",
       "      <td>0.040889</td>\n",
       "      <td>0.0</td>\n",
       "      <td>2.425112</td>\n",
       "      <td>0.850224</td>\n",
       "      <td>dummy</td>\n",
       "    </tr>\n",
       "  </tbody>\n",
       "</table>\n",
       "</div>"
      ],
      "text/plain": [
       "     score1    score2    score3    score4  score5    score7    score8   name\n",
       "a  0.482080  0.202607  0.579824  0.586028     1.0  2.811874  1.623747  dummy\n",
       "b  0.087684  0.782998  0.185257  0.988741     0.0  2.146553  0.293107  dummy\n",
       "c  0.967709  0.961918  0.754011  0.562501     0.0  2.220026  0.440052  dummy\n",
       "d  0.780514  0.780570  0.718742  0.040889     0.0  2.425112  0.850224  dummy"
      ]
     },
     "execution_count": 196,
     "metadata": {},
     "output_type": "execute_result"
    }
   ],
   "source": [
    "df1"
   ]
  },
  {
   "cell_type": "code",
   "execution_count": 198,
   "metadata": {
    "collapsed": false
   },
   "outputs": [
    {
     "data": {
      "text/html": [
       "<div>\n",
       "<style scoped>\n",
       "    .dataframe tbody tr th:only-of-type {\n",
       "        vertical-align: middle;\n",
       "    }\n",
       "\n",
       "    .dataframe tbody tr th {\n",
       "        vertical-align: top;\n",
       "    }\n",
       "\n",
       "    .dataframe thead th {\n",
       "        text-align: right;\n",
       "    }\n",
       "</style>\n",
       "<table border=\"1\" class=\"dataframe\">\n",
       "  <thead>\n",
       "    <tr style=\"text-align: right;\">\n",
       "      <th></th>\n",
       "      <th>score1_x</th>\n",
       "      <th>score2_x</th>\n",
       "      <th>score3_x</th>\n",
       "      <th>score4_x</th>\n",
       "      <th>score5_x</th>\n",
       "      <th>score7</th>\n",
       "      <th>score8_x</th>\n",
       "      <th>name_x</th>\n",
       "      <th>score1_y</th>\n",
       "      <th>score2_y</th>\n",
       "      <th>score3_y</th>\n",
       "      <th>score4_y</th>\n",
       "      <th>score5_y</th>\n",
       "      <th>score8_y</th>\n",
       "      <th>name_y</th>\n",
       "    </tr>\n",
       "  </thead>\n",
       "  <tbody>\n",
       "    <tr>\n",
       "      <th>0</th>\n",
       "      <td>0.482080</td>\n",
       "      <td>0.202607</td>\n",
       "      <td>0.579824</td>\n",
       "      <td>0.586028</td>\n",
       "      <td>1.0</td>\n",
       "      <td>2.811874</td>\n",
       "      <td>1.623747</td>\n",
       "      <td>dummy</td>\n",
       "      <td>0.482080</td>\n",
       "      <td>0.202607</td>\n",
       "      <td>0.579824</td>\n",
       "      <td>0.586028</td>\n",
       "      <td>1.0</td>\n",
       "      <td>1.623747</td>\n",
       "      <td>dummy</td>\n",
       "    </tr>\n",
       "    <tr>\n",
       "      <th>1</th>\n",
       "      <td>0.087684</td>\n",
       "      <td>0.782998</td>\n",
       "      <td>0.185257</td>\n",
       "      <td>0.988741</td>\n",
       "      <td>0.0</td>\n",
       "      <td>2.146553</td>\n",
       "      <td>0.293107</td>\n",
       "      <td>dummy</td>\n",
       "      <td>0.087684</td>\n",
       "      <td>0.782998</td>\n",
       "      <td>0.185257</td>\n",
       "      <td>0.988741</td>\n",
       "      <td>0.0</td>\n",
       "      <td>0.293107</td>\n",
       "      <td>dummy</td>\n",
       "    </tr>\n",
       "    <tr>\n",
       "      <th>2</th>\n",
       "      <td>0.967709</td>\n",
       "      <td>0.961918</td>\n",
       "      <td>0.754011</td>\n",
       "      <td>0.562501</td>\n",
       "      <td>0.0</td>\n",
       "      <td>2.220026</td>\n",
       "      <td>0.440052</td>\n",
       "      <td>dummy</td>\n",
       "      <td>0.967709</td>\n",
       "      <td>0.961918</td>\n",
       "      <td>0.754011</td>\n",
       "      <td>0.562501</td>\n",
       "      <td>0.0</td>\n",
       "      <td>0.440052</td>\n",
       "      <td>dummy</td>\n",
       "    </tr>\n",
       "    <tr>\n",
       "      <th>3</th>\n",
       "      <td>0.780514</td>\n",
       "      <td>0.780570</td>\n",
       "      <td>0.718742</td>\n",
       "      <td>0.040889</td>\n",
       "      <td>0.0</td>\n",
       "      <td>2.425112</td>\n",
       "      <td>0.850224</td>\n",
       "      <td>dummy</td>\n",
       "      <td>0.780514</td>\n",
       "      <td>0.780570</td>\n",
       "      <td>0.718742</td>\n",
       "      <td>0.040889</td>\n",
       "      <td>0.0</td>\n",
       "      <td>0.850224</td>\n",
       "      <td>dummy</td>\n",
       "    </tr>\n",
       "  </tbody>\n",
       "</table>\n",
       "</div>"
      ],
      "text/plain": [
       "   score1_x  score2_x  score3_x  score4_x  score5_x    score7  score8_x  \\\n",
       "0  0.482080  0.202607  0.579824  0.586028       1.0  2.811874  1.623747   \n",
       "1  0.087684  0.782998  0.185257  0.988741       0.0  2.146553  0.293107   \n",
       "2  0.967709  0.961918  0.754011  0.562501       0.0  2.220026  0.440052   \n",
       "3  0.780514  0.780570  0.718742  0.040889       0.0  2.425112  0.850224   \n",
       "\n",
       "  name_x  score1_y  score2_y  score3_y  score4_y  score5_y  score8_y name_y  \n",
       "0  dummy  0.482080  0.202607  0.579824  0.586028       1.0  1.623747  dummy  \n",
       "1  dummy  0.087684  0.782998  0.185257  0.988741       0.0  0.293107  dummy  \n",
       "2  dummy  0.967709  0.961918  0.754011  0.562501       0.0  0.440052  dummy  \n",
       "3  dummy  0.780514  0.780570  0.718742  0.040889       0.0  0.850224  dummy  "
      ]
     },
     "execution_count": 198,
     "metadata": {},
     "output_type": "execute_result"
    }
   ],
   "source": [
    "df.merge(df1,how='inner',on='score7')"
   ]
  },
  {
   "cell_type": "code",
   "execution_count": 201,
   "metadata": {
    "collapsed": false
   },
   "outputs": [
    {
     "data": {
      "text/plain": [
       "<matplotlib.axes._subplots.AxesSubplot at 0x11b472410>"
      ]
     },
     "execution_count": 201,
     "metadata": {},
     "output_type": "execute_result"
    },
    {
     "data": {
      "image/png": "[encoded data removed]",
      "text/plain": [
       "<Figure size 600x400 with 1 Axes>"
      ]
     },
     "metadata": {},
     "output_type": "display_data"
    }
   ],
   "source": [
    "df.score2.plot()"
   ]
  },
  {
   "cell_type": "code",
   "execution_count": 200,
   "metadata": {
    "collapsed": true
   },
   "outputs": [],
   "source": [
    "import matplotlib.pyplot as plt\n",
    "%matplotlib inline"
   ]
  },
  {
   "cell_type": "code",
   "execution_count": null,
   "metadata": {
    "collapsed": true
   },
   "outputs": [],
   "source": []
  }
 ],
 "metadata": {
  "kernelspec": {
   "display_name": "Python 2",
   "language": "python",
   "name": "python2"
  },
  "language_info": {
   "codemirror_mode": {
    "name": "ipython",
    "version": 2
   },
   "file_extension": ".py",
   "mimetype": "text/x-python",
   "name": "python",
   "nbconvert_exporter": "python",
   "pygments_lexer": "ipython2",
   "version": "2.7.15"
  }
 },
 "nbformat": 4,
 "nbformat_minor": 0
}
